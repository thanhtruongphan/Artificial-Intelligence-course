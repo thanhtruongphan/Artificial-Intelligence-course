{
  "nbformat": 4,
  "nbformat_minor": 0,
  "metadata": {
    "colab": {
      "provenance": [],
      "toc_visible": true,
      "mount_file_id": "1h-fvf5MLAJNrXIYEbw299eHnfLhw9Q__",
      "authorship_tag": "ABX9TyNHNm26yNnlehowRVDqEWJ+",
      "include_colab_link": true
    },
    "kernelspec": {
      "name": "python3",
      "display_name": "Python 3"
    },
    "language_info": {
      "name": "python"
    }
  },
  "cells": [
    {
      "cell_type": "markdown",
      "metadata": {
        "id": "view-in-github",
        "colab_type": "text"
      },
      "source": [
        "<a href=\"https://colab.research.google.com/github/thanhtruongphan/HomeworkAI/blob/main/AI1703HW_50startups.ipynb\" target=\"_parent\"><img src=\"https://colab.research.google.com/assets/colab-badge.svg\" alt=\"Open In Colab\"/></a>"
      ]
    },
    {
      "cell_type": "markdown",
      "source": [
        "# **50 startups**"
      ],
      "metadata": {
        "id": "rRAULoZNehTq"
      }
    },
    {
      "cell_type": "markdown",
      "source": [
        "## **Linear bậc 1**"
      ],
      "metadata": {
        "id": "Od186RVwOoqz"
      }
    },
    {
      "cell_type": "code",
      "execution_count": 89,
      "metadata": {
        "id": "Rb2lSyh7Gdqm"
      },
      "outputs": [],
      "source": [
        "import pandas as pd "
      ]
    },
    {
      "cell_type": "code",
      "source": [
        "url = '/content/drive/MyDrive/A_HOC TAP/Nam 4, Hoc ky 2/Artificial Intelligence/Code_AI/files/50_Startups.csv'\n",
        "data = pd.read_csv(url)\n",
        "data.head()"
      ],
      "metadata": {
        "colab": {
          "base_uri": "https://localhost:8080/",
          "height": 206
        },
        "id": "rt7G8RtZGx8U",
        "outputId": "edf1eff1-65d4-4ae0-886a-de0e269f009e"
      },
      "execution_count": 90,
      "outputs": [
        {
          "output_type": "execute_result",
          "data": {
            "text/plain": [
              "   R&D Spend  Administration  Marketing Spend       State     Profit\n",
              "0  165349.20       136897.80        471784.10    New York  192261.83\n",
              "1  162597.70       151377.59        443898.53  California  191792.06\n",
              "2  153441.51       101145.55        407934.54     Florida  191050.39\n",
              "3  144372.41       118671.85        383199.62    New York  182901.99\n",
              "4  142107.34        91391.77        366168.42     Florida  166187.94"
            ],
            "text/html": [
              "\n",
              "  <div id=\"df-f588d3b4-15c3-4ebf-b894-1d7fe75cc94f\">\n",
              "    <div class=\"colab-df-container\">\n",
              "      <div>\n",
              "<style scoped>\n",
              "    .dataframe tbody tr th:only-of-type {\n",
              "        vertical-align: middle;\n",
              "    }\n",
              "\n",
              "    .dataframe tbody tr th {\n",
              "        vertical-align: top;\n",
              "    }\n",
              "\n",
              "    .dataframe thead th {\n",
              "        text-align: right;\n",
              "    }\n",
              "</style>\n",
              "<table border=\"1\" class=\"dataframe\">\n",
              "  <thead>\n",
              "    <tr style=\"text-align: right;\">\n",
              "      <th></th>\n",
              "      <th>R&amp;D Spend</th>\n",
              "      <th>Administration</th>\n",
              "      <th>Marketing Spend</th>\n",
              "      <th>State</th>\n",
              "      <th>Profit</th>\n",
              "    </tr>\n",
              "  </thead>\n",
              "  <tbody>\n",
              "    <tr>\n",
              "      <th>0</th>\n",
              "      <td>165349.20</td>\n",
              "      <td>136897.80</td>\n",
              "      <td>471784.10</td>\n",
              "      <td>New York</td>\n",
              "      <td>192261.83</td>\n",
              "    </tr>\n",
              "    <tr>\n",
              "      <th>1</th>\n",
              "      <td>162597.70</td>\n",
              "      <td>151377.59</td>\n",
              "      <td>443898.53</td>\n",
              "      <td>California</td>\n",
              "      <td>191792.06</td>\n",
              "    </tr>\n",
              "    <tr>\n",
              "      <th>2</th>\n",
              "      <td>153441.51</td>\n",
              "      <td>101145.55</td>\n",
              "      <td>407934.54</td>\n",
              "      <td>Florida</td>\n",
              "      <td>191050.39</td>\n",
              "    </tr>\n",
              "    <tr>\n",
              "      <th>3</th>\n",
              "      <td>144372.41</td>\n",
              "      <td>118671.85</td>\n",
              "      <td>383199.62</td>\n",
              "      <td>New York</td>\n",
              "      <td>182901.99</td>\n",
              "    </tr>\n",
              "    <tr>\n",
              "      <th>4</th>\n",
              "      <td>142107.34</td>\n",
              "      <td>91391.77</td>\n",
              "      <td>366168.42</td>\n",
              "      <td>Florida</td>\n",
              "      <td>166187.94</td>\n",
              "    </tr>\n",
              "  </tbody>\n",
              "</table>\n",
              "</div>\n",
              "      <button class=\"colab-df-convert\" onclick=\"convertToInteractive('df-f588d3b4-15c3-4ebf-b894-1d7fe75cc94f')\"\n",
              "              title=\"Convert this dataframe to an interactive table.\"\n",
              "              style=\"display:none;\">\n",
              "        \n",
              "  <svg xmlns=\"http://www.w3.org/2000/svg\" height=\"24px\"viewBox=\"0 0 24 24\"\n",
              "       width=\"24px\">\n",
              "    <path d=\"M0 0h24v24H0V0z\" fill=\"none\"/>\n",
              "    <path d=\"M18.56 5.44l.94 2.06.94-2.06 2.06-.94-2.06-.94-.94-2.06-.94 2.06-2.06.94zm-11 1L8.5 8.5l.94-2.06 2.06-.94-2.06-.94L8.5 2.5l-.94 2.06-2.06.94zm10 10l.94 2.06.94-2.06 2.06-.94-2.06-.94-.94-2.06-.94 2.06-2.06.94z\"/><path d=\"M17.41 7.96l-1.37-1.37c-.4-.4-.92-.59-1.43-.59-.52 0-1.04.2-1.43.59L10.3 9.45l-7.72 7.72c-.78.78-.78 2.05 0 2.83L4 21.41c.39.39.9.59 1.41.59.51 0 1.02-.2 1.41-.59l7.78-7.78 2.81-2.81c.8-.78.8-2.07 0-2.86zM5.41 20L4 18.59l7.72-7.72 1.47 1.35L5.41 20z\"/>\n",
              "  </svg>\n",
              "      </button>\n",
              "      \n",
              "  <style>\n",
              "    .colab-df-container {\n",
              "      display:flex;\n",
              "      flex-wrap:wrap;\n",
              "      gap: 12px;\n",
              "    }\n",
              "\n",
              "    .colab-df-convert {\n",
              "      background-color: #E8F0FE;\n",
              "      border: none;\n",
              "      border-radius: 50%;\n",
              "      cursor: pointer;\n",
              "      display: none;\n",
              "      fill: #1967D2;\n",
              "      height: 32px;\n",
              "      padding: 0 0 0 0;\n",
              "      width: 32px;\n",
              "    }\n",
              "\n",
              "    .colab-df-convert:hover {\n",
              "      background-color: #E2EBFA;\n",
              "      box-shadow: 0px 1px 2px rgba(60, 64, 67, 0.3), 0px 1px 3px 1px rgba(60, 64, 67, 0.15);\n",
              "      fill: #174EA6;\n",
              "    }\n",
              "\n",
              "    [theme=dark] .colab-df-convert {\n",
              "      background-color: #3B4455;\n",
              "      fill: #D2E3FC;\n",
              "    }\n",
              "\n",
              "    [theme=dark] .colab-df-convert:hover {\n",
              "      background-color: #434B5C;\n",
              "      box-shadow: 0px 1px 3px 1px rgba(0, 0, 0, 0.15);\n",
              "      filter: drop-shadow(0px 1px 2px rgba(0, 0, 0, 0.3));\n",
              "      fill: #FFFFFF;\n",
              "    }\n",
              "  </style>\n",
              "\n",
              "      <script>\n",
              "        const buttonEl =\n",
              "          document.querySelector('#df-f588d3b4-15c3-4ebf-b894-1d7fe75cc94f button.colab-df-convert');\n",
              "        buttonEl.style.display =\n",
              "          google.colab.kernel.accessAllowed ? 'block' : 'none';\n",
              "\n",
              "        async function convertToInteractive(key) {\n",
              "          const element = document.querySelector('#df-f588d3b4-15c3-4ebf-b894-1d7fe75cc94f');\n",
              "          const dataTable =\n",
              "            await google.colab.kernel.invokeFunction('convertToInteractive',\n",
              "                                                     [key], {});\n",
              "          if (!dataTable) return;\n",
              "\n",
              "          const docLinkHtml = 'Like what you see? Visit the ' +\n",
              "            '<a target=\"_blank\" href=https://colab.research.google.com/notebooks/data_table.ipynb>data table notebook</a>'\n",
              "            + ' to learn more about interactive tables.';\n",
              "          element.innerHTML = '';\n",
              "          dataTable['output_type'] = 'display_data';\n",
              "          await google.colab.output.renderOutput(dataTable, element);\n",
              "          const docLink = document.createElement('div');\n",
              "          docLink.innerHTML = docLinkHtml;\n",
              "          element.appendChild(docLink);\n",
              "        }\n",
              "      </script>\n",
              "    </div>\n",
              "  </div>\n",
              "  "
            ]
          },
          "metadata": {},
          "execution_count": 90
        }
      ]
    },
    {
      "cell_type": "code",
      "source": [
        "import matplotlib.pyplot as plt\n",
        "data.hist()\n",
        "plt.show()"
      ],
      "metadata": {
        "colab": {
          "base_uri": "https://localhost:8080/",
          "height": 281
        },
        "id": "gxLadJTlHFVS",
        "outputId": "259ab084-1523-404d-93e6-d4bec6aa29c8"
      },
      "execution_count": 91,
      "outputs": [
        {
          "output_type": "display_data",
          "data": {
            "text/plain": [
              "<Figure size 432x288 with 4 Axes>"
            ],
            "image/png": "[encoded data removed]"
          },
          "metadata": {
            "needs_background": "light"
          }
        }
      ]
    },
    {
      "cell_type": "code",
      "source": [
        "# from google.colab import drive\n",
        "# drive.mount('/content/Folder')"
      ],
      "metadata": {
        "id": "woAoW15BHMxP"
      },
      "execution_count": 92,
      "outputs": []
    },
    {
      "cell_type": "code",
      "source": [
        "correlation = data.corr()\n",
        "print(correlation)"
      ],
      "metadata": {
        "colab": {
          "base_uri": "https://localhost:8080/"
        },
        "id": "R9J5W_TAHayx",
        "outputId": "cffc8380-a225-48aa-bf67-2cf6664f676b"
      },
      "execution_count": 93,
      "outputs": [
        {
          "output_type": "stream",
          "name": "stdout",
          "text": [
            "                 R&D Spend  Administration  Marketing Spend    Profit\n",
            "R&D Spend         1.000000        0.241955         0.724248  0.972900\n",
            "Administration    0.241955        1.000000        -0.032154  0.200717\n",
            "Marketing Spend   0.724248       -0.032154         1.000000  0.747766\n",
            "Profit            0.972900        0.200717         0.747766  1.000000\n"
          ]
        }
      ]
    },
    {
      "cell_type": "code",
      "source": [
        "import seaborn as sns \n",
        "sns.heatmap(correlation, annot = True)"
      ],
      "metadata": {
        "colab": {
          "base_uri": "https://localhost:8080/",
          "height": 362
        },
        "id": "MXWzEmJ3H4xV",
        "outputId": "8e16075d-038d-4ef8-f1a3-71999c3dbf1b"
      },
      "execution_count": 94,
      "outputs": [
        {
          "output_type": "execute_result",
          "data": {
            "text/plain": [
              "<Axes: >"
            ]
          },
          "metadata": {},
          "execution_count": 94
        },
        {
          "output_type": "display_data",
          "data": {
            "text/plain": [
              "<Figure size 432x288 with 2 Axes>"
            ],
            "image/png": "[encoded data removed]"
          },
          "metadata": {
            "needs_background": "light"
          }
        }
      ]
    },
    {
      "cell_type": "code",
      "source": [],
      "metadata": {
        "id": "qNubdsxrKKl0"
      },
      "execution_count": 94,
      "outputs": []
    },
    {
      "cell_type": "code",
      "source": [
        "sns.pairplot(data)"
      ],
      "metadata": {
        "colab": {
          "base_uri": "https://localhost:8080/",
          "height": 744
        },
        "id": "6fsWtxiSJZ_0",
        "outputId": "2b237606-a60a-4d61-c86b-c9580caa9d86"
      },
      "execution_count": 95,
      "outputs": [
        {
          "output_type": "execute_result",
          "data": {
            "text/plain": [
              "<seaborn.axisgrid.PairGrid at 0x7f89c4969460>"
            ]
          },
          "metadata": {},
          "execution_count": 95
        },
        {
          "output_type": "display_data",
          "data": {
            "text/plain": [
              "<Figure size 720x720 with 20 Axes>"
            ],
            "image/png": "[encoded data removed]"
          },
          "metadata": {
            "needs_background": "light"
          }
        }
      ]
    },
    {
      "cell_type": "code",
      "source": [],
      "metadata": {
        "id": "no7hWj1AJg_M"
      },
      "execution_count": 95,
      "outputs": []
    },
    {
      "cell_type": "code",
      "source": [
        "#1 import library \n",
        "from sklearn import linear_model"
      ],
      "metadata": {
        "id": "oPJWwlTzKLlL"
      },
      "execution_count": 96,
      "outputs": []
    },
    {
      "cell_type": "code",
      "source": [
        "#2 fit-model, find intercept & coef\n",
        "model = linear_model.LinearRegression()\n",
        "model.fit(X=pd.DataFrame(data['Administration']),y= data['Profit'])\n",
        "print(\"He so intercept la : \", model.intercept_)\n",
        "print(\"He so coef la : \", model.coef_)"
      ],
      "metadata": {
        "id": "If92E7dgKSsQ",
        "colab": {
          "base_uri": "https://localhost:8080/"
        },
        "outputId": "a6ed38f8-e85d-48d5-d500-dd26c33c7fe6"
      },
      "execution_count": 97,
      "outputs": [
        {
          "output_type": "stream",
          "name": "stdout",
          "text": [
            "He so intercept la :  76974.47130541757\n",
            "He so coef la :  [0.2887492]\n"
          ]
        }
      ]
    },
    {
      "cell_type": "code",
      "source": [
        "model.score(X=pd.DataFrame(data['Administration']),y= data['Profit'])"
      ],
      "metadata": {
        "colab": {
          "base_uri": "https://localhost:8080/"
        },
        "id": "w4-9cjAbLPjp",
        "outputId": "b6a91f69-1489-4685-c0df-d36ce3ceb447"
      },
      "execution_count": 98,
      "outputs": [
        {
          "output_type": "execute_result",
          "data": {
            "text/plain": [
              "0.04028714077757223"
            ]
          },
          "metadata": {},
          "execution_count": 98
        }
      ]
    },
    {
      "cell_type": "code",
      "source": [],
      "metadata": {
        "id": "j-sufbKqMNRw"
      },
      "execution_count": 98,
      "outputs": []
    },
    {
      "cell_type": "code",
      "source": [
        "y_pred = model.predict(X=pd.DataFrame(data['Administration']))\n",
        "data.plot(kind='scatter',x='Administration',y='Profit',figsize=(7,7),color='orange', xlim=(40000,200000))\n",
        "plt.plot(data['Administration'],y_pred,color='blue')"
      ],
      "metadata": {
        "colab": {
          "base_uri": "https://localhost:8080/",
          "height": 518
        },
        "id": "J-wioYrTNJCw",
        "outputId": "65107da5-2f11-4228-b21d-ca4d0d9e5a49"
      },
      "execution_count": 99,
      "outputs": [
        {
          "output_type": "stream",
          "name": "stderr",
          "text": [
            "/usr/local/lib/python3.9/dist-packages/pandas/plotting/_matplotlib/core.py:1114: UserWarning: No data for colormapping provided via 'c'. Parameters 'cmap' will be ignored\n",
            "  scatter = ax.scatter(\n"
          ]
        },
        {
          "output_type": "execute_result",
          "data": {
            "text/plain": [
              "[<matplotlib.lines.Line2D at 0x7f89c4969670>]"
            ]
          },
          "metadata": {},
          "execution_count": 99
        },
        {
          "output_type": "display_data",
          "data": {
            "text/plain": [
              "<Figure size 504x504 with 1 Axes>"
            ],
            "image/png": "[encoded data removed]"
          },
          "metadata": {
            "needs_background": "light"
          }
        }
      ]
    },
    {
      "cell_type": "code",
      "source": [],
      "metadata": {
        "id": "5xBVaveYNkZh"
      },
      "execution_count": null,
      "outputs": []
    },
    {
      "cell_type": "markdown",
      "source": [],
      "metadata": {
        "id": "zAsrRFFTcQ76"
      }
    },
    {
      "cell_type": "code",
      "source": [
        "model=linear_model.LinearRegression()\n",
        "X=pd.DataFrame([data['Administration'],data['Administration']**2,\n",
        "                data['Administration']**3,data['Administration']**4,\n",
        "                data['Administration']**5,data['Administration']**6,\n",
        "                data['Administration']**7,data['Administration']**8,\n",
        "                data['Administration']**9,data['Administration']**10,\n",
        "                data['Administration']**11,data['Administration']**12,\n",
        "                data['Administration']**13,data['Administration']**14,\n",
        "                data['Administration']**15\n",
        "                ]).T \n",
        "y=data['Profit']\n",
        "model.fit(X,y)\n",
        "print('Intercept cua mo hinh : ', model.intercept_)\n",
        "print('Coef cua mo hinh la : ',model.coef_)"
      ],
      "metadata": {
        "colab": {
          "base_uri": "https://localhost:8080/"
        },
        "id": "sjGNWO_UcRPv",
        "outputId": "7b2a09cf-5462-4ccc-e20b-7fe1af3d3729"
      },
      "execution_count": null,
      "outputs": [
        {
          "output_type": "stream",
          "name": "stdout",
          "text": [
            "Intercept cua mo hinh :  102091.97134986722\n",
            "Coef cua mo hinh la :  [ 1.75942875e-122 -5.98123898e-065 -3.59383880e-072  2.89597723e-119\n",
            "  1.45335790e-101  1.38335656e-096  1.70455712e-091  2.01376046e-086\n",
            "  2.26002413e-081  2.36602135e-076  2.23095183e-071  1.75579872e-066\n",
            "  9.23232712e-062 -1.08043541e-066  3.14801559e-072]\n"
          ]
        }
      ]
    },
    {
      "cell_type": "code",
      "source": [
        "model.score(X,y)"
      ],
      "metadata": {
        "colab": {
          "base_uri": "https://localhost:8080/"
        },
        "id": "KPHlurMscRSb",
        "outputId": "97211377-a5d0-4fde-9aef-2710d3edb1f4"
      },
      "execution_count": null,
      "outputs": [
        {
          "output_type": "execute_result",
          "data": {
            "text/plain": [
              "0.03863989118580535"
            ]
          },
          "metadata": {},
          "execution_count": 65
        }
      ]
    },
    {
      "cell_type": "markdown",
      "source": [
        "## bậc 18\n",
        "\n"
      ],
      "metadata": {
        "id": "GauTZk2wi9kC"
      }
    },
    {
      "cell_type": "code",
      "source": [
        "model=linear_model.LinearRegression()\n",
        "X=pd.DataFrame([data['Administration'],data['Administration']**2,\n",
        "                data['Administration']**3,data['Administration']**4,\n",
        "                data['Administration']**5,data['Administration']**6,\n",
        "                data['Administration']**7,data['Administration']**8,\n",
        "                data['Administration']**9,data['Administration']**10,\n",
        "                data['Administration']**11,data['Administration']**12,\n",
        "                data['Administration']**13,data['Administration']**14,\n",
        "                data['Administration']**15,data['Administration']**16,\n",
        "                data['Administration']**17,data['Administration']**18]).T \n",
        "y=data['Profit']\n",
        "model.fit(X,y)\n",
        "print('Intercept cua mo hinh : ', model.intercept_)\n",
        "print('Coef cua mo hinh la : ',model.coef_)"
      ],
      "metadata": {
        "colab": {
          "base_uri": "https://localhost:8080/"
        },
        "id": "hTwSzq_hjCrs",
        "outputId": "507b0b87-a02d-4b21-80ab-d815b2f0d7a9"
      },
      "execution_count": null,
      "outputs": [
        {
          "output_type": "stream",
          "name": "stdout",
          "text": [
            "Intercept cua mo hinh :  102889.88197732197\n",
            "Coef cua mo hinh la :  [ 2.65495278e-153 -1.33768093e-080 -1.39289402e-086  7.67045854e-093\n",
            "  3.09626887e-132  2.74512434e-127  1.18969681e-117  4.74337017e-117\n",
            "  6.00922251e-112  7.37972144e-107  8.73682851e-102  9.85748960e-097\n",
            "  1.03939457e-091  9.88088142e-087  7.84377959e-082  4.16061053e-077\n",
            " -4.91661622e-082  1.44468518e-087]\n"
          ]
        }
      ]
    },
    {
      "cell_type": "code",
      "source": [
        "import numpy as np\n",
        "range = np.arange(50000,190000,10)\n",
        "X_range=pd.DataFrame([range**1,range**2,range**3,range**4,range**5,range**6,range**7,range**8,range**9,range**10,range**11,range**12,range**13,range**14,range**15,range**16,range**17,range**18]).T\n",
        "y_pred = model.predict(X_range)\n",
        "data.plot(kind='scatter',x='Administration',y='Profit',figsize=(9,9),color='black',xlim=(40000,200000))\n",
        "plt.plot(range,y_pred,color='blue')"
      ],
      "metadata": {
        "colab": {
          "base_uri": "https://localhost:8080/",
          "height": 663
        },
        "id": "bynKK3hNjKg1",
        "outputId": "976992a6-852f-4595-d8b4-1a826685a052"
      },
      "execution_count": null,
      "outputs": [
        {
          "output_type": "stream",
          "name": "stderr",
          "text": [
            "/usr/local/lib/python3.9/dist-packages/sklearn/base.py:439: UserWarning: X does not have valid feature names, but LinearRegression was fitted with feature names\n",
            "  warnings.warn(\n",
            "/usr/local/lib/python3.9/dist-packages/pandas/plotting/_matplotlib/core.py:1114: UserWarning: No data for colormapping provided via 'c'. Parameters 'cmap' will be ignored\n",
            "  scatter = ax.scatter(\n"
          ]
        },
        {
          "output_type": "execute_result",
          "data": {
            "text/plain": [
              "[<matplotlib.lines.Line2D at 0x7f89d2638910>]"
            ]
          },
          "metadata": {},
          "execution_count": 63
        },
        {
          "output_type": "display_data",
          "data": {
            "text/plain": [
              "<Figure size 648x648 with 1 Axes>"
            ],
            "image/png": "[encoded data removed]"
          },
          "metadata": {
            "needs_background": "light"
          }
        }
      ]
    },
    {
      "cell_type": "code",
      "source": [
        "model.score(X,y)"
      ],
      "metadata": {
        "colab": {
          "base_uri": "https://localhost:8080/"
        },
        "id": "OLW_LVzfbHsk",
        "outputId": "983f01e1-e649-4bfe-8cd5-4927291213c7"
      },
      "execution_count": null,
      "outputs": [
        {
          "output_type": "execute_result",
          "data": {
            "text/plain": [
              "0.04993008981449465"
            ]
          },
          "metadata": {},
          "execution_count": 49
        }
      ]
    },
    {
      "cell_type": "markdown",
      "source": [
        "## bậc 25 "
      ],
      "metadata": {
        "id": "WaWldbwsdzp0"
      }
    },
    {
      "cell_type": "code",
      "source": [
        "model=linear_model.LinearRegression()\n",
        "X=pd.DataFrame([data['Administration'],data['Administration']**2,\n",
        "                data['Administration']**3,data['Administration']**4,\n",
        "                data['Administration']**5,data['Administration']**6,\n",
        "                data['Administration']**7,data['Administration']**8,\n",
        "                data['Administration']**9,data['Administration']**10,\n",
        "                data['Administration']**11,data['Administration']**12,\n",
        "                data['Administration']**13,data['Administration']**14,\n",
        "                data['Administration']**15,data['Administration']**16,\n",
        "                data['Administration']**17,data['Administration']**18,\n",
        "                data['Administration']**19,data['Administration']**20,\n",
        "                data['Administration']**21,data['Administration']**22,\n",
        "                data['Administration']**23,data['Administration']**24,\n",
        "                data['Administration']**25]).T \n",
        "y=data['Profit']\n",
        "model.fit(X,y)\n",
        "print('Intercept cua mo hinh : ', model.intercept_)\n",
        "print('Coef cua mo hinh la : ',model.coef_)"
      ],
      "metadata": {
        "colab": {
          "base_uri": "https://localhost:8080/"
        },
        "id": "ZQyDqIHQdz5-",
        "outputId": "d6be00ee-cfd1-4ade-f4c3-8e14a52bbb95"
      },
      "execution_count": null,
      "outputs": [
        {
          "output_type": "stream",
          "name": "stdout",
          "text": [
            "Intercept cua mo hinh :  105293.40470036298\n",
            "Coef cua mo hinh la :  [ 1.41204637e-225  8.73083095e-116 -1.52078341e-122  5.83874118e-223\n",
            "  2.78989192e-204  2.08742978e-199 -1.71840170e-151  1.49166815e-154\n",
            " -3.64176794e-158  8.51420211e-179 -1.63928458e-161 -1.08373385e-165\n",
            "  2.14731414e-163  2.84283761e-158  3.69847527e-153  4.70972323e-148\n",
            "  5.83843604e-143  6.98948882e-138  7.98196413e-133  8.52248257e-128\n",
            "  8.20467199e-123  6.59485144e-118  3.54091399e-113 -4.20620577e-118\n",
            "  1.24148361e-123]\n"
          ]
        }
      ]
    },
    {
      "cell_type": "code",
      "source": [
        "model.score(X,y)"
      ],
      "metadata": {
        "colab": {
          "base_uri": "https://localhost:8080/"
        },
        "id": "qXdkr4jYdz8f",
        "outputId": "67910f65-1e69-42a1-f356-f503fcf5fbd1"
      },
      "execution_count": null,
      "outputs": [
        {
          "output_type": "execute_result",
          "data": {
            "text/plain": [
              "0.06584647170865243"
            ]
          },
          "metadata": {},
          "execution_count": 75
        }
      ]
    },
    {
      "cell_type": "code",
      "source": [],
      "metadata": {
        "id": "oCM8J6jBdz_H"
      },
      "execution_count": null,
      "outputs": []
    },
    {
      "cell_type": "markdown",
      "source": [
        "## bậc 26 (độ chính xác cao nhất) "
      ],
      "metadata": {
        "id": "DtTNnNJ2e1oX"
      }
    },
    {
      "cell_type": "code",
      "source": [
        "model=linear_model.LinearRegression()\n",
        "X=pd.DataFrame([data['Administration'],data['Administration']**2,\n",
        "                data['Administration']**3,data['Administration']**4,\n",
        "                data['Administration']**5,data['Administration']**6,\n",
        "                data['Administration']**7,data['Administration']**8,\n",
        "                data['Administration']**9,data['Administration']**10,\n",
        "                data['Administration']**11,data['Administration']**12,\n",
        "                data['Administration']**13,data['Administration']**14,\n",
        "                data['Administration']**15,data['Administration']**16,\n",
        "                data['Administration']**17,data['Administration']**18,\n",
        "                data['Administration']**19,data['Administration']**20,\n",
        "                data['Administration']**21,data['Administration']**22,\n",
        "                data['Administration']**23,data['Administration']**24,\n",
        "                data['Administration']**25,data['Administration']**26]).T \n",
        "y=data['Profit']\n",
        "model.fit(X,y)\n",
        "print('Intercept cua mo hinh : ', model.intercept_)\n",
        "print('Coef cua mo hinh la : ',model.coef_)"
      ],
      "metadata": {
        "id": "a7N1HnrXkNx2",
        "colab": {
          "base_uri": "https://localhost:8080/"
        },
        "outputId": "488ccd53-9049-48a3-95e9-965eec51146f"
      },
      "execution_count": 100,
      "outputs": [
        {
          "output_type": "stream",
          "name": "stdout",
          "text": [
            "Intercept cua mo hinh :  105618.55589973919\n",
            "Coef cua mo hinh la :  [ 2.11292936e-120  2.45698811e-120 -3.26922903e-127  2.41282724e-233\n",
            "  1.31588477e-214  1.80838491e-209  2.45882410e-204  3.31955787e-199\n",
            "  4.45687479e-194  5.95353181e-189  7.91042542e-184  1.04462626e-178\n",
            "  1.36932762e-173  1.77858409e-168  2.28372315e-163  2.88977936e-158\n",
            "  3.58859278e-153  4.34828534e-148  5.09863909e-143  5.71353583e-138\n",
            "  5.99603095e-133  5.68206007e-128  4.50171430e-123  2.38529981e-118\n",
            " -2.83393236e-123  8.36567666e-129]\n"
          ]
        }
      ]
    },
    {
      "cell_type": "code",
      "source": [
        "model.score(X,y)"
      ],
      "metadata": {
        "colab": {
          "base_uri": "https://localhost:8080/"
        },
        "id": "iTQ2RYboc5rE",
        "outputId": "e4aceb3b-f686-4815-b817-883a4ec426fa"
      },
      "execution_count": 101,
      "outputs": [
        {
          "output_type": "execute_result",
          "data": {
            "text/plain": [
              "0.06593192356420341"
            ]
          },
          "metadata": {},
          "execution_count": 101
        }
      ]
    },
    {
      "cell_type": "code",
      "source": [
        "import numpy as np\n",
        "range = np.arange(50000,190000,0.1)\n",
        "X_range=pd.DataFrame([range**1,range**2,range**3,range**4,range**5,range**6,range**7,range**8,range**9,range**10,range**11,range**12,range**13,range**14,range**15,range**16,range**17,range**18,range**19,range**20,range**21,range**22,range**23,range**24,range**25,range**26]).T\n",
        "y_pred = model.predict(X_range)\n",
        "data.plot(kind='scatter',x='Administration',y='Profit',figsize=(9,9),color='black',xlim=(40000,200000))\n",
        "plt.plot(range,y_pred,color='blue')"
      ],
      "metadata": {
        "colab": {
          "base_uri": "https://localhost:8080/",
          "height": 673
        },
        "id": "OnVGbLTNewYp",
        "outputId": "d2012bfe-d9d4-40df-822d-c52bbcd481e5"
      },
      "execution_count": 104,
      "outputs": [
        {
          "output_type": "stream",
          "name": "stderr",
          "text": [
            "/usr/local/lib/python3.9/dist-packages/sklearn/base.py:439: UserWarning: X does not have valid feature names, but LinearRegression was fitted with feature names\n",
            "  warnings.warn(\n",
            "/usr/local/lib/python3.9/dist-packages/pandas/plotting/_matplotlib/core.py:1114: UserWarning: No data for colormapping provided via 'c'. Parameters 'cmap' will be ignored\n",
            "  scatter = ax.scatter(\n"
          ]
        },
        {
          "output_type": "execute_result",
          "data": {
            "text/plain": [
              "[<matplotlib.lines.Line2D at 0x7f89d146dee0>]"
            ]
          },
          "metadata": {},
          "execution_count": 104
        },
        {
          "output_type": "display_data",
          "data": {
            "text/plain": [
              "<Figure size 648x648 with 1 Axes>"
            ],
            "image/png": "[encoded data removed]"
          },
          "metadata": {
            "needs_background": "light"
          }
        }
      ]
    },
    {
      "cell_type": "markdown",
      "source": [
        "## bậc 27 "
      ],
      "metadata": {
        "id": "Z7yrqv8gdk_j"
      }
    },
    {
      "cell_type": "code",
      "source": [
        "model=linear_model.LinearRegression()\n",
        "X=pd.DataFrame([data['Administration'],data['Administration']**2,\n",
        "                data['Administration']**3,data['Administration']**4,\n",
        "                data['Administration']**5,data['Administration']**6,\n",
        "                data['Administration']**7,data['Administration']**8,\n",
        "                data['Administration']**9,data['Administration']**10,\n",
        "                data['Administration']**11,data['Administration']**12,\n",
        "                data['Administration']**13,data['Administration']**14,\n",
        "                data['Administration']**15,data['Administration']**16,\n",
        "                data['Administration']**17,data['Administration']**18,\n",
        "                data['Administration']**19,data['Administration']**20,\n",
        "                data['Administration']**21,data['Administration']**22,\n",
        "                data['Administration']**23,data['Administration']**24,\n",
        "                data['Administration']**25,data['Administration']**26,\n",
        "                data['Administration']**27]).T \n",
        "y=data['Profit']\n",
        "model.fit(X,y)\n",
        "print('Intercept cua mo hinh : ', model.intercept_)\n",
        "print('Coef cua mo hinh la : ',model.coef_)"
      ],
      "metadata": {
        "colab": {
          "base_uri": "https://localhost:8080/"
        },
        "id": "K3AlFwJ5dlSz",
        "outputId": "6cd6b0ca-fd74-4659-b349-dd3c879d1124"
      },
      "execution_count": null,
      "outputs": [
        {
          "output_type": "stream",
          "name": "stdout",
          "text": [
            "Intercept cua mo hinh :  105929.41446407877\n",
            "Coef cua mo hinh la :  [ 1.71857833e-125  3.22580872e-125 -7.20701435e-133  1.00923537e-243\n",
            "  6.12596430e-225  8.46247759e-220  1.15709686e-214  1.57173240e-209\n",
            "  2.12446415e-204  2.85913195e-199  3.83080921e-194  5.10698842e-189\n",
            "  6.76748035e-184  8.90171349e-179  1.16013200e-173  1.49447975e-168\n",
            "  1.89696891e-163  2.36264273e-158  2.87076253e-153  3.37493830e-148\n",
            "  3.79120526e-143  3.98774920e-138  3.78699936e-133  3.00628289e-128\n",
            "  1.59587116e-123 -1.89623506e-128  5.59815311e-134]\n"
          ]
        }
      ]
    },
    {
      "cell_type": "code",
      "source": [
        "model.score(X,y)"
      ],
      "metadata": {
        "colab": {
          "base_uri": "https://localhost:8080/"
        },
        "id": "uR-GJaHidlVh",
        "outputId": "af0c3b68-bcb1-4ce4-f78f-bf367b023514"
      },
      "execution_count": null,
      "outputs": [
        {
          "output_type": "execute_result",
          "data": {
            "text/plain": [
              "0.06554071207957435"
            ]
          },
          "metadata": {},
          "execution_count": 73
        }
      ]
    },
    {
      "cell_type": "code",
      "source": [],
      "metadata": {
        "id": "jonTHgNBdleY"
      },
      "execution_count": null,
      "outputs": []
    }
  ]
}