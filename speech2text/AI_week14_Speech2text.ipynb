{
  "nbformat": 4,
  "nbformat_minor": 0,
  "metadata": {
    "colab": {
      "provenance": [],
      "mount_file_id": "1DBEWW5td8kjDyaNd43Tz1c3WcsClMu32",
      "authorship_tag": "ABX9TyP2wMoG3RR3tneL1v0OJzhK",
      "include_colab_link": true
    },
    "kernelspec": {
      "name": "python3",
      "display_name": "Python 3"
    },
    "language_info": {
      "name": "python"
    }
  },
  "cells": [
    {
      "cell_type": "markdown",
      "metadata": {
        "id": "view-in-github",
        "colab_type": "text"
      },
      "source": [
        "<a href=\"https://colab.research.google.com/github/thanhtruongphan/Artificial-Intelligence-course/blob/main/AI_week14_Speech2text.ipynb\" target=\"_parent\"><img src=\"https://colab.research.google.com/assets/colab-badge.svg\" alt=\"Open In Colab\"/></a>"
      ]
    },
    {
      "cell_type": "markdown",
      "source": [
        "# **Speech2text**"
      ],
      "metadata": {
        "id": "4aTuu33alQDj"
      }
    },
    {
      "cell_type": "code",
      "execution_count": null,
      "metadata": {
        "colab": {
          "base_uri": "https://localhost:8080/"
        },
        "id": "0_meN-jbf0Lg",
        "outputId": "17324b52-d650-49af-ef90-42460d58f67c"
      },
      "outputs": [
        {
          "output_type": "stream",
          "name": "stdout",
          "text": [
            "Looking in indexes: https://pypi.org/simple, https://us-python.pkg.dev/colab-wheels/public/simple/\n",
            "Collecting pydub\n",
            "  Downloading pydub-0.25.1-py2.py3-none-any.whl (32 kB)\n",
            "Installing collected packages: pydub\n",
            "Successfully installed pydub-0.25.1\n"
          ]
        }
      ],
      "source": [
        "!pip install pydub"
      ]
    },
    {
      "cell_type": "code",
      "source": [
        "!pip install SpeechRecognition"
      ],
      "metadata": {
        "colab": {
          "base_uri": "https://localhost:8080/"
        },
        "id": "lpdi8EaVjB1R",
        "outputId": "507819b1-8772-43f4-b210-c40e5d6bce68"
      },
      "execution_count": null,
      "outputs": [
        {
          "output_type": "stream",
          "name": "stdout",
          "text": [
            "Looking in indexes: https://pypi.org/simple, https://us-python.pkg.dev/colab-wheels/public/simple/\n",
            "Collecting SpeechRecognition\n",
            "  Downloading SpeechRecognition-3.10.0-py2.py3-none-any.whl (32.8 MB)\n",
            "\u001b[2K     \u001b[90m━━━━━━━━━━━━━━━━━━━━━━━━━━━━━━━━━━━━━━━━\u001b[0m \u001b[32m32.8/32.8 MB\u001b[0m \u001b[31m25.7 MB/s\u001b[0m eta \u001b[36m0:00:00\u001b[0m\n",
            "\u001b[?25hRequirement already satisfied: requests>=2.26.0 in /usr/local/lib/python3.10/dist-packages (from SpeechRecognition) (2.27.1)\n",
            "Requirement already satisfied: urllib3<1.27,>=1.21.1 in /usr/local/lib/python3.10/dist-packages (from requests>=2.26.0->SpeechRecognition) (1.26.15)\n",
            "Requirement already satisfied: certifi>=2017.4.17 in /usr/local/lib/python3.10/dist-packages (from requests>=2.26.0->SpeechRecognition) (2022.12.7)\n",
            "Requirement already satisfied: charset-normalizer~=2.0.0 in /usr/local/lib/python3.10/dist-packages (from requests>=2.26.0->SpeechRecognition) (2.0.12)\n",
            "Requirement already satisfied: idna<4,>=2.5 in /usr/local/lib/python3.10/dist-packages (from requests>=2.26.0->SpeechRecognition) (3.4)\n",
            "Installing collected packages: SpeechRecognition\n",
            "Successfully installed SpeechRecognition-3.10.0\n"
          ]
        }
      ]
    },
    {
      "cell_type": "code",
      "source": [
        "file = '/content/drive/MyDrive/A_HOC_TAP/Nam_4_Hoc_ky_2/Artificial_Intelligence/Code_AI/files/wav_files/male.wav'\n",
        "import speech_recognition as sr \n",
        "r = sr.Recognizer()\n",
        "with sr.AudioFile(file) as source:\n",
        "  data = r.record(source)\n",
        "  text = r.recognize_google(data)\n",
        "print(text)"
      ],
      "metadata": {
        "colab": {
          "base_uri": "https://localhost:8080/"
        },
        "id": "EU00clgHgVaU",
        "outputId": "6e258646-77e2-461a-e278-e1382498fcef"
      },
      "execution_count": null,
      "outputs": [
        {
          "output_type": "stream",
          "name": "stdout",
          "text": [
            "what if somebody decides to break it be careful that you keep adequate coverage but look for places to save money baby it's taking longer to get things squared away than the bankers expected during the wife for once company may win her tax hated retirement income as helpful as our cost on the two naked bone when the title of this type of song is in question there's no dying or waxing or gassing needed maybe personalized leather hard place work on a flat surface and smooth out the simplest kind of separate system uses a single self-contained unit the old shop at it still holds a good mechanic is usually a bad boss both figures would go higher in later years doll houses at set\n"
          ]
        }
      ]
    },
    {
      "cell_type": "code",
      "source": [],
      "metadata": {
        "id": "6O3GEn_-i5tW"
      },
      "execution_count": null,
      "outputs": []
    },
    {
      "cell_type": "markdown",
      "source": [
        "# **Text2speech**"
      ],
      "metadata": {
        "id": "S4cCPyFbkJbI"
      }
    },
    {
      "cell_type": "code",
      "source": [
        "!pip install gTTS"
      ],
      "metadata": {
        "colab": {
          "base_uri": "https://localhost:8080/"
        },
        "id": "3csJajbtkNrq",
        "outputId": "35bcad86-6491-49f1-e748-1c1e3a05bc3d"
      },
      "execution_count": null,
      "outputs": [
        {
          "output_type": "stream",
          "name": "stdout",
          "text": [
            "Looking in indexes: https://pypi.org/simple, https://us-python.pkg.dev/colab-wheels/public/simple/\n",
            "Collecting gTTS\n",
            "  Downloading gTTS-2.3.2-py3-none-any.whl (28 kB)\n",
            "Requirement already satisfied: click<8.2,>=7.1 in /usr/local/lib/python3.10/dist-packages (from gTTS) (8.1.3)\n",
            "Requirement already satisfied: requests<3,>=2.27 in /usr/local/lib/python3.10/dist-packages (from gTTS) (2.27.1)\n",
            "Requirement already satisfied: idna<4,>=2.5 in /usr/local/lib/python3.10/dist-packages (from requests<3,>=2.27->gTTS) (3.4)\n",
            "Requirement already satisfied: certifi>=2017.4.17 in /usr/local/lib/python3.10/dist-packages (from requests<3,>=2.27->gTTS) (2022.12.7)\n",
            "Requirement already satisfied: charset-normalizer~=2.0.0 in /usr/local/lib/python3.10/dist-packages (from requests<3,>=2.27->gTTS) (2.0.12)\n",
            "Requirement already satisfied: urllib3<1.27,>=1.21.1 in /usr/local/lib/python3.10/dist-packages (from requests<3,>=2.27->gTTS) (1.26.15)\n",
            "Installing collected packages: gTTS\n",
            "Successfully installed gTTS-2.3.2\n"
          ]
        }
      ]
    },
    {
      "cell_type": "code",
      "source": [
        "\n",
        "# Import the required module for text \n",
        "# to speech conversion\n",
        "from gtts import gTTS\n",
        "  \n",
        "# This module is imported so that we can \n",
        "# play the converted audio\n",
        "import os\n",
        "  \n",
        "# The text that you want to convert to audio\n",
        "mytext = \"what if somebody decides to break it be careful that you keep adequate coverage but look for places to save money baby it's taking longer to get things squared away than the bankers expected during the wife for once company may win her tax hated retirement income as helpful as our cost on the two naked bone when the title of this type of song is in question there's no dying or waxing or gassing needed maybe personalized leather hard place work on a flat surface and smooth out the simplest kind of separate system uses a single self-contained unit the old shop at it still holds a good mechanic is usually a bad boss both figures would go higher in later years doll houses at set\"\n",
        "  \n",
        "# Language in which you want to convert\n",
        "language = 'en'\n",
        "  \n",
        "# Passing the text and language to the engine, \n",
        "# here we have marked slow=False. Which tells \n",
        "# the module that the converted audio should \n",
        "# have a high speed\n",
        "myobj = gTTS(text=mytext, lang=language, slow=False)\n",
        "  \n",
        "# Saving the converted audio in a mp3 file named\n",
        "# welcome \n",
        "myobj.save(\"welcome.mp3\")\n",
        "  \n",
        "# Playing the converted file\n",
        "os.system(\"mpg321 welcome.mp3\")"
      ],
      "metadata": {
        "colab": {
          "base_uri": "https://localhost:8080/"
        },
        "id": "cFfeEDQckONN",
        "outputId": "7d22c4e6-5fa6-44cf-d608-3bd3b32da00a"
      },
      "execution_count": null,
      "outputs": [
        {
          "output_type": "execute_result",
          "data": {
            "text/plain": [
              "32512"
            ]
          },
          "metadata": {},
          "execution_count": 14
        }
      ]
    },
    {
      "cell_type": "code",
      "source": [],
      "metadata": {
        "id": "oUT0zWZfkWWE"
      },
      "execution_count": null,
      "outputs": []
    },
    {
      "cell_type": "code",
      "source": [],
      "metadata": {
        "id": "qQpX50V5nR3C"
      },
      "execution_count": null,
      "outputs": []
    },
    {
      "cell_type": "code",
      "source": [],
      "metadata": {
        "id": "HbjyjrJdnR6k"
      },
      "execution_count": null,
      "outputs": []
    },
    {
      "cell_type": "markdown",
      "source": [
        "# **speech2text**"
      ],
      "metadata": {
        "id": "4F4AEM5ivPms"
      }
    },
    {
      "cell_type": "code",
      "source": [
        "file = '/content/drive/MyDrive/A_HOC_TAP/Nam_4_Hoc_ky_2/Artificial_Intelligence/Code_AI/files/wav_files/nhacchuongchianhhieuem.wav'\n",
        "import speech_recognition as sr \n",
        "r = sr.Recognizer()\n",
        "with sr.AudioFile(file) as source:\n",
        "  data1 = r.record(source, offset=5, duration=30)\n",
        "  text = r.recognize_google(data1, language='vi')\n",
        "print(text)"
      ],
      "metadata": {
        "colab": {
          "base_uri": "https://localhost:8080/"
        },
        "id": "aDEyUp70nR9H",
        "outputId": "f8a4c199-3956-485a-ae74-0ddfba11c0d5"
      },
      "execution_count": null,
      "outputs": [
        {
          "output_type": "stream",
          "name": "stdout",
          "text": [
            "khuyến mãi khoảnh khắc yêu thương đẹp biết mấy những lúc ta vừa quen nhau thật đẹp biết mấy lúc ta mới yêu nhau vì đôi ta mới yêu nhau anh hay mộng mơ lắm Mình đã luôn bên nhau mình từng đã hứa sẽ mãi không bao giờ rời bỏ\n"
          ]
        }
      ]
    },
    {
      "cell_type": "code",
      "source": [
        "text = 'khuyến mãi khoảnh khắc yêu thương\\ đẹp biết mấy những lúc ta vừa quen nhau\\ thật đẹp biết mấy lúc ta mới yêu nhau\\ vì đôi ta mới yêu nhau anh hay mộng mơ lắm\\Mình đã luôn bên nhau \\ mình từng đã hứa sẽ mãi không bao giờ rời bỏ'"
      ],
      "metadata": {
        "id": "sNS_eQUEpJ8T"
      },
      "execution_count": null,
      "outputs": []
    },
    {
      "cell_type": "markdown",
      "source": [
        "# **text2speech**"
      ],
      "metadata": {
        "id": "PWAs-8pyvUXg"
      }
    },
    {
      "cell_type": "code",
      "source": [
        "\n",
        "from gtts import gTTS\n",
        "import os\n",
        "  \n",
        "# The text that you want to convert to audio\n",
        "mytext = text\n",
        "# Language in which you want to convert\n",
        "language = 'vi'\n",
        "  \n",
        "# Passing the text and language to the engine, \n",
        "# here we have marked slow=False. Which tells \n",
        "# the module that the converted audio should \n",
        "# have a high speed\n",
        "myobj = gTTS(text=mytext, lang=language, slow=False)\n",
        "myobj.save(\"chianhhieuemtext2speech.mp3\")\n",
        "\n",
        "# playsound(\"chianhhieuemtext2speech.mp3\")\n",
        "# os.remove(\"chianhhieuemtext2speech.mp3\")  \n",
        "\n",
        "# Playing the converted file\n",
        "os.system(\"mpg321 welcome.mp3\")"
      ],
      "metadata": {
        "colab": {
          "base_uri": "https://localhost:8080/"
        },
        "id": "HySphL-RvAlo",
        "outputId": "2521a553-6107-4b8e-9f7a-745018dcd287"
      },
      "execution_count": null,
      "outputs": [
        {
          "output_type": "execute_result",
          "data": {
            "text/plain": [
              "32512"
            ]
          },
          "metadata": {},
          "execution_count": 41
        }
      ]
    },
    {
      "cell_type": "markdown",
      "source": [
        "# **translate**"
      ],
      "metadata": {
        "id": "WUz1Bocx1spx"
      }
    },
    {
      "cell_type": "code",
      "source": [
        "\n",
        "# !pip install googletrans==3.1.0a0"
      ],
      "metadata": {
        "id": "ApiapMg81wFD"
      },
      "execution_count": null,
      "outputs": []
    },
    {
      "cell_type": "code",
      "source": [
        "from googletrans import Translator\n",
        "trans = Translator()\n",
        "text = 'có công mài sắt có ngày nên kim'\n",
        "translation = trans.translate(text=text,dest='en')\n",
        "print(translation.text)"
      ],
      "metadata": {
        "colab": {
          "base_uri": "https://localhost:8080/"
        },
        "id": "IKxMbXvC2-tk",
        "outputId": "0fe1dc99-e3b3-4324-b2ef-3b566314364e"
      },
      "execution_count": null,
      "outputs": [
        {
          "output_type": "stream",
          "name": "stdout",
          "text": [
            "Has iron grinding makes perfect\n"
          ]
        }
      ]
    },
    {
      "cell_type": "markdown",
      "source": [
        "**another text**"
      ],
      "metadata": {
        "id": "lUxwHPpb3pom"
      }
    },
    {
      "cell_type": "code",
      "source": [
        "from googletrans import Translator\n",
        "trans = Translator()\n",
        "text = 'khuyến mãi khoảnh khắc yêu thương\\ đẹp biết mấy những lúc ta vừa quen nhau\\ thật đẹp biết mấy lúc ta mới yêu nhau\\ vì đôi ta mới yêu nhau anh hay mộng mơ lắm\\Mình đã luôn bên nhau \\ mình từng đã hứa sẽ mãi không bao giờ rời bỏ'\n",
        "translation = trans.translate(text=text,dest='en')\n",
        "print(translation.text)"
      ],
      "metadata": {
        "colab": {
          "base_uri": "https://localhost:8080/"
        },
        "id": "G32japA83sqX",
        "outputId": "da54edcd-56d5-46b2-b959-56a56591dbfc"
      },
      "execution_count": null,
      "outputs": [
        {
          "output_type": "stream",
          "name": "stdout",
          "text": [
            "promotional moments of love\\ so beautiful when we just met\\ it's so beautiful when we fall in love\\ because we just fell in love you are so dreamy\\ We've always been together \\ I promised to never leave\n"
          ]
        }
      ]
    },
    {
      "cell_type": "code",
      "source": [],
      "metadata": {
        "id": "dQgY6QWA30Te"
      },
      "execution_count": null,
      "outputs": []
    },
    {
      "cell_type": "markdown",
      "source": [
        "'***text2speech***'"
      ],
      "metadata": {
        "id": "VK921hrv35TL"
      }
    },
    {
      "cell_type": "code",
      "source": [
        "\n",
        "from gtts import gTTS\n",
        "import os\n",
        "  \n",
        "# The text that you want to convert to audio\n",
        "mytext = translation.text\n",
        "# Language in which you want to convert\n",
        "language = 'en'\n",
        "  \n",
        "# Passing the text and language to the engine, \n",
        "# here we have marked slow=False. Which tells \n",
        "# the module that the converted audio should \n",
        "# have a high speed\n",
        "myobj = gTTS(text=mytext, lang=language, slow=False)\n",
        "myobj.save(\"chianhhieuemengsub.mp3\")\n",
        "\n",
        "# playsound(\"chianhhieuemtext2speech.mp3\")\n",
        "# os.remove(\"chianhhieuemtext2speech.mp3\")  \n",
        "\n",
        "# Playing the converted file\n",
        "os.system(\"mpg321 welcome.mp3\")"
      ],
      "metadata": {
        "colab": {
          "base_uri": "https://localhost:8080/"
        },
        "id": "QxjIgWOr38qM",
        "outputId": "6ef4feff-2844-4e54-82ec-c721d75e6726"
      },
      "execution_count": null,
      "outputs": [
        {
          "output_type": "execute_result",
          "data": {
            "text/plain": [
              "32512"
            ]
          },
          "metadata": {},
          "execution_count": 7
        }
      ]
    }
  ]
}
