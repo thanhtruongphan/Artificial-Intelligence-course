{
  "nbformat": 4,
  "nbformat_minor": 0,
  "metadata": {
    "colab": {
      "provenance": [],
      "toc_visible": true,
      "mount_file_id": "1EX4UeQlEkd7wrdRlBhl_RMLL2R8kTkeX",
      "authorship_tag": "ABX9TyNkuZ9x3XcHg8MHQ5WSfhf/",
      "include_colab_link": true
    },
    "kernelspec": {
      "name": "python3",
      "display_name": "Python 3"
    },
    "language_info": {
      "name": "python"
    }
  },
  "cells": [
    {
      "cell_type": "markdown",
      "metadata": {
        "id": "view-in-github",
        "colab_type": "text"
      },
      "source": [
        "<a href=\"https://colab.research.google.com/github/thanhtruongphan/HomeworkAI/blob/main/AI1703_LinearRegression_HW_passenger1_ex3.ipynb\" target=\"_parent\"><img src=\"https://colab.research.google.com/assets/colab-badge.svg\" alt=\"Open In Colab\"/></a>"
      ]
    },
    {
      "cell_type": "markdown",
      "source": [
        "# **Passenger 1**"
      ],
      "metadata": {
        "id": "rRAULoZNehTq"
      }
    },
    {
      "cell_type": "markdown",
      "source": [
        "## **Linear bậc 1**"
      ],
      "metadata": {
        "id": "Od186RVwOoqz"
      }
    },
    {
      "cell_type": "code",
      "execution_count": 12,
      "metadata": {
        "id": "Rb2lSyh7Gdqm"
      },
      "outputs": [],
      "source": [
        "import pandas as pd "
      ]
    },
    {
      "cell_type": "code",
      "source": [
        "url = '/content/drive/MyDrive/A_HOC TAP/Nam 4, Hoc ky 2/Artificial Intelligence/Code_AI/files/passenger1.csv'\n",
        "data= pd.read_csv(url)\n",
        "data.head()"
      ],
      "metadata": {
        "colab": {
          "base_uri": "https://localhost:8080/",
          "height": 206
        },
        "id": "rt7G8RtZGx8U",
        "outputId": "be938168-c9b5-4166-bbda-32069d0b744f"
      },
      "execution_count": 69,
      "outputs": [
        {
          "output_type": "execute_result",
          "data": {
            "text/plain": [
              "   Passenger  Miles(X)  Dollars (Y)\n",
              "0         19      4267         5738\n",
              "1         23      5090         6321\n",
              "2         16      3643         5298\n",
              "3         10       246         3694\n",
              "4         15      3466         4244"
            ],
            "text/html": [
              "\n",
              "  <div id=\"df-8a98a2f9-5eda-4b67-9404-d00cc16fe1f2\">\n",
              "    <div class=\"colab-df-container\">\n",
              "      <div>\n",
              "<style scoped>\n",
              "    .dataframe tbody tr th:only-of-type {\n",
              "        vertical-align: middle;\n",
              "    }\n",
              "\n",
              "    .dataframe tbody tr th {\n",
              "        vertical-align: top;\n",
              "    }\n",
              "\n",
              "    .dataframe thead th {\n",
              "        text-align: right;\n",
              "    }\n",
              "</style>\n",
              "<table border=\"1\" class=\"dataframe\">\n",
              "  <thead>\n",
              "    <tr style=\"text-align: right;\">\n",
              "      <th></th>\n",
              "      <th>Passenger</th>\n",
              "      <th>Miles(X)</th>\n",
              "      <th>Dollars (Y)</th>\n",
              "    </tr>\n",
              "  </thead>\n",
              "  <tbody>\n",
              "    <tr>\n",
              "      <th>0</th>\n",
              "      <td>19</td>\n",
              "      <td>4267</td>\n",
              "      <td>5738</td>\n",
              "    </tr>\n",
              "    <tr>\n",
              "      <th>1</th>\n",
              "      <td>23</td>\n",
              "      <td>5090</td>\n",
              "      <td>6321</td>\n",
              "    </tr>\n",
              "    <tr>\n",
              "      <th>2</th>\n",
              "      <td>16</td>\n",
              "      <td>3643</td>\n",
              "      <td>5298</td>\n",
              "    </tr>\n",
              "    <tr>\n",
              "      <th>3</th>\n",
              "      <td>10</td>\n",
              "      <td>246</td>\n",
              "      <td>3694</td>\n",
              "    </tr>\n",
              "    <tr>\n",
              "      <th>4</th>\n",
              "      <td>15</td>\n",
              "      <td>3466</td>\n",
              "      <td>4244</td>\n",
              "    </tr>\n",
              "  </tbody>\n",
              "</table>\n",
              "</div>\n",
              "      <button class=\"colab-df-convert\" onclick=\"convertToInteractive('df-8a98a2f9-5eda-4b67-9404-d00cc16fe1f2')\"\n",
              "              title=\"Convert this dataframe to an interactive table.\"\n",
              "              style=\"display:none;\">\n",
              "        \n",
              "  <svg xmlns=\"http://www.w3.org/2000/svg\" height=\"24px\"viewBox=\"0 0 24 24\"\n",
              "       width=\"24px\">\n",
              "    <path d=\"M0 0h24v24H0V0z\" fill=\"none\"/>\n",
              "    <path d=\"M18.56 5.44l.94 2.06.94-2.06 2.06-.94-2.06-.94-.94-2.06-.94 2.06-2.06.94zm-11 1L8.5 8.5l.94-2.06 2.06-.94-2.06-.94L8.5 2.5l-.94 2.06-2.06.94zm10 10l.94 2.06.94-2.06 2.06-.94-2.06-.94-.94-2.06-.94 2.06-2.06.94z\"/><path d=\"M17.41 7.96l-1.37-1.37c-.4-.4-.92-.59-1.43-.59-.52 0-1.04.2-1.43.59L10.3 9.45l-7.72 7.72c-.78.78-.78 2.05 0 2.83L4 21.41c.39.39.9.59 1.41.59.51 0 1.02-.2 1.41-.59l7.78-7.78 2.81-2.81c.8-.78.8-2.07 0-2.86zM5.41 20L4 18.59l7.72-7.72 1.47 1.35L5.41 20z\"/>\n",
              "  </svg>\n",
              "      </button>\n",
              "      \n",
              "  <style>\n",
              "    .colab-df-container {\n",
              "      display:flex;\n",
              "      flex-wrap:wrap;\n",
              "      gap: 12px;\n",
              "    }\n",
              "\n",
              "    .colab-df-convert {\n",
              "      background-color: #E8F0FE;\n",
              "      border: none;\n",
              "      border-radius: 50%;\n",
              "      cursor: pointer;\n",
              "      display: none;\n",
              "      fill: #1967D2;\n",
              "      height: 32px;\n",
              "      padding: 0 0 0 0;\n",
              "      width: 32px;\n",
              "    }\n",
              "\n",
              "    .colab-df-convert:hover {\n",
              "      background-color: #E2EBFA;\n",
              "      box-shadow: 0px 1px 2px rgba(60, 64, 67, 0.3), 0px 1px 3px 1px rgba(60, 64, 67, 0.15);\n",
              "      fill: #174EA6;\n",
              "    }\n",
              "\n",
              "    [theme=dark] .colab-df-convert {\n",
              "      background-color: #3B4455;\n",
              "      fill: #D2E3FC;\n",
              "    }\n",
              "\n",
              "    [theme=dark] .colab-df-convert:hover {\n",
              "      background-color: #434B5C;\n",
              "      box-shadow: 0px 1px 3px 1px rgba(0, 0, 0, 0.15);\n",
              "      filter: drop-shadow(0px 1px 2px rgba(0, 0, 0, 0.3));\n",
              "      fill: #FFFFFF;\n",
              "    }\n",
              "  </style>\n",
              "\n",
              "      <script>\n",
              "        const buttonEl =\n",
              "          document.querySelector('#df-8a98a2f9-5eda-4b67-9404-d00cc16fe1f2 button.colab-df-convert');\n",
              "        buttonEl.style.display =\n",
              "          google.colab.kernel.accessAllowed ? 'block' : 'none';\n",
              "\n",
              "        async function convertToInteractive(key) {\n",
              "          const element = document.querySelector('#df-8a98a2f9-5eda-4b67-9404-d00cc16fe1f2');\n",
              "          const dataTable =\n",
              "            await google.colab.kernel.invokeFunction('convertToInteractive',\n",
              "                                                     [key], {});\n",
              "          if (!dataTable) return;\n",
              "\n",
              "          const docLinkHtml = 'Like what you see? Visit the ' +\n",
              "            '<a target=\"_blank\" href=https://colab.research.google.com/notebooks/data_table.ipynb>data table notebook</a>'\n",
              "            + ' to learn more about interactive tables.';\n",
              "          element.innerHTML = '';\n",
              "          dataTable['output_type'] = 'display_data';\n",
              "          await google.colab.output.renderOutput(dataTable, element);\n",
              "          const docLink = document.createElement('div');\n",
              "          docLink.innerHTML = docLinkHtml;\n",
              "          element.appendChild(docLink);\n",
              "        }\n",
              "      </script>\n",
              "    </div>\n",
              "  </div>\n",
              "  "
            ]
          },
          "metadata": {},
          "execution_count": 69
        }
      ]
    },
    {
      "cell_type": "code",
      "source": [
        "import matplotlib.pyplot as plt\n",
        "data.hist()\n",
        "plt.show()"
      ],
      "metadata": {
        "colab": {
          "base_uri": "https://localhost:8080/",
          "height": 281
        },
        "id": "gxLadJTlHFVS",
        "outputId": "251e25fa-dacd-4916-d61e-5f874389b19d"
      },
      "execution_count": 77,
      "outputs": [
        {
          "output_type": "display_data",
          "data": {
            "text/plain": [
              "<Figure size 432x288 with 4 Axes>"
            ],
            "image/png": "[encoded data removed]"
          },
          "metadata": {
            "needs_background": "light"
          }
        }
      ]
    },
    {
      "cell_type": "code",
      "source": [
        "# from google.colab import drive\n",
        "# drive.mount('/content/Folder')"
      ],
      "metadata": {
        "id": "woAoW15BHMxP"
      },
      "execution_count": 78,
      "outputs": []
    },
    {
      "cell_type": "code",
      "source": [
        "correlation = data.corr()\n",
        "print(correlation)"
      ],
      "metadata": {
        "colab": {
          "base_uri": "https://localhost:8080/"
        },
        "id": "R9J5W_TAHayx",
        "outputId": "333a04cf-0ddf-4a14-f6da-4db8cd359f17"
      },
      "execution_count": 79,
      "outputs": [
        {
          "output_type": "stream",
          "name": "stdout",
          "text": [
            "             Passenger  Miles(X)  Dollars (Y)\n",
            "Passenger     1.000000  0.939166     0.980384\n",
            "Miles(X)      0.939166  1.000000     0.921729\n",
            "Dollars (Y)   0.980384  0.921729     1.000000\n"
          ]
        }
      ]
    },
    {
      "cell_type": "code",
      "source": [
        "import seaborn as sns \n",
        "sns.heatmap(correlation, annot = True)"
      ],
      "metadata": {
        "colab": {
          "base_uri": "https://localhost:8080/",
          "height": 287
        },
        "id": "MXWzEmJ3H4xV",
        "outputId": "e8d8c581-6e91-46d5-e72e-7c049c07bf85"
      },
      "execution_count": 80,
      "outputs": [
        {
          "output_type": "execute_result",
          "data": {
            "text/plain": [
              "<Axes: >"
            ]
          },
          "metadata": {},
          "execution_count": 80
        },
        {
          "output_type": "display_data",
          "data": {
            "text/plain": [
              "<Figure size 432x288 with 2 Axes>"
            ],
            "image/png": "[encoded data removed]"
          },
          "metadata": {
            "needs_background": "light"
          }
        }
      ]
    },
    {
      "cell_type": "code",
      "source": [],
      "metadata": {
        "id": "qNubdsxrKKl0"
      },
      "execution_count": 80,
      "outputs": []
    },
    {
      "cell_type": "code",
      "source": [
        "sns.pairplot(data)"
      ],
      "metadata": {
        "colab": {
          "base_uri": "https://localhost:8080/",
          "height": 568
        },
        "id": "6fsWtxiSJZ_0",
        "outputId": "55c7b547-68f3-417d-e313-60fce2251727"
      },
      "execution_count": 81,
      "outputs": [
        {
          "output_type": "execute_result",
          "data": {
            "text/plain": [
              "<seaborn.axisgrid.PairGrid at 0x7f2f4c0630a0>"
            ]
          },
          "metadata": {},
          "execution_count": 81
        },
        {
          "output_type": "display_data",
          "data": {
            "text/plain": [
              "<Figure size 540x540 with 12 Axes>"
            ],
            "image/png": "[encoded data removed]"
          },
          "metadata": {
            "needs_background": "light"
          }
        }
      ]
    },
    {
      "cell_type": "code",
      "source": [],
      "metadata": {
        "id": "no7hWj1AJg_M"
      },
      "execution_count": 81,
      "outputs": []
    },
    {
      "cell_type": "code",
      "source": [
        "#1 import library \n",
        "from sklearn import linear_model"
      ],
      "metadata": {
        "id": "oPJWwlTzKLlL"
      },
      "execution_count": 82,
      "outputs": []
    },
    {
      "cell_type": "code",
      "source": [
        "#2 fit-model, find intercept & coef\n",
        "model = linear_model.LinearRegression()\n",
        "model.fit(X=pd.DataFrame(data['Miles(X)']),y= data['Dollars (Y)'])\n",
        "print(\"He so intercept la : \", model.intercept_)\n",
        "print(\"He so coef la : \", model.coef_)"
      ],
      "metadata": {
        "id": "If92E7dgKSsQ",
        "colab": {
          "base_uri": "https://localhost:8080/"
        },
        "outputId": "61492c74-c16c-4550-bbd7-899c37c87890"
      },
      "execution_count": 88,
      "outputs": [
        {
          "output_type": "stream",
          "name": "stdout",
          "text": [
            "He so intercept la :  934.5366384552531\n",
            "He so coef la :  [1.07802533]\n"
          ]
        }
      ]
    },
    {
      "cell_type": "code",
      "source": [
        "model.score(X=pd.DataFrame(data['Miles(X)']),y= data['Dollars (Y)'])"
      ],
      "metadata": {
        "colab": {
          "base_uri": "https://localhost:8080/"
        },
        "id": "w4-9cjAbLPjp",
        "outputId": "3e17afdb-b94f-4c66-e57b-d6ab2eb73350"
      },
      "execution_count": 89,
      "outputs": [
        {
          "output_type": "execute_result",
          "data": {
            "text/plain": [
              "0.8495847755547029"
            ]
          },
          "metadata": {},
          "execution_count": 89
        }
      ]
    },
    {
      "cell_type": "code",
      "source": [],
      "metadata": {
        "id": "j-sufbKqMNRw"
      },
      "execution_count": 51,
      "outputs": []
    },
    {
      "cell_type": "code",
      "source": [
        "y_pred = model.predict(X=pd.DataFrame(data['Miles(X)']))\n",
        "data.plot(kind='scatter',x='Miles(X)',y='Dollars (Y)',figsize=(7,7),color='orange', xlim=(-1000,7000))\n",
        "plt.plot(data['Miles(X)'],y_pred,color='blue')"
      ],
      "metadata": {
        "colab": {
          "base_uri": "https://localhost:8080/",
          "height": 516
        },
        "id": "J-wioYrTNJCw",
        "outputId": "c40d7946-99a6-4eab-c203-75a042409e1e"
      },
      "execution_count": 90,
      "outputs": [
        {
          "output_type": "stream",
          "name": "stderr",
          "text": [
            "/usr/local/lib/python3.9/dist-packages/pandas/plotting/_matplotlib/core.py:1114: UserWarning: No data for colormapping provided via 'c'. Parameters 'cmap' will be ignored\n",
            "  scatter = ax.scatter(\n"
          ]
        },
        {
          "output_type": "execute_result",
          "data": {
            "text/plain": [
              "[<matplotlib.lines.Line2D at 0x7f2f4c6a7730>]"
            ]
          },
          "metadata": {},
          "execution_count": 90
        },
        {
          "output_type": "display_data",
          "data": {
            "text/plain": [
              "<Figure size 504x504 with 1 Axes>"
            ],
            "image/png": "[encoded data removed]"
          },
          "metadata": {
            "needs_background": "light"
          }
        }
      ]
    },
    {
      "cell_type": "code",
      "source": [],
      "metadata": {
        "id": "5xBVaveYNkZh"
      },
      "execution_count": null,
      "outputs": []
    },
    {
      "cell_type": "markdown",
      "source": [
        "### bậc 27 (cao nhất) "
      ],
      "metadata": {
        "id": "zAsrRFFTcQ76"
      }
    },
    {
      "cell_type": "code",
      "source": [
        "model=linear_model.LinearRegression()\n",
        "X=pd.DataFrame([data['Miles(X)'],data['Miles(X)']**2,\n",
        "                data['Miles(X)']**3,data['Miles(X)']**4,\n",
        "                data['Miles(X)']**5,data['Miles(X)']**6,\n",
        "                data['Miles(X)']**7,data['Miles(X)']**8,\n",
        "                data['Miles(X)']**9,data['Miles(X)']**10,\n",
        "                data['Miles(X)']**11,data['Miles(X)']**12,\n",
        "                data['Miles(X)']**13,data['Miles(X)']**14,\n",
        "                data['Miles(X)']**15,data['Miles(X)']**16,\n",
        "                data['Miles(X)']**17,data['Miles(X)']**18,\n",
        "                data['Miles(X)']**19,data['Miles(X)']**20,\n",
        "                data['Miles(X)']**21,data['Miles(X)']**22,\n",
        "                data['Miles(X)']**23,data['Miles(X)']**24]).T \n",
        "y=data['Dollars (Y)']\n",
        "model.fit(X,y)\n",
        "print('Intercept cua mo hinh : ', model.intercept_)\n",
        "print('Coef cua mo hinh la : ',model.coef_)"
      ],
      "metadata": {
        "colab": {
          "base_uri": "https://localhost:8080/"
        },
        "id": "sjGNWO_UcRPv",
        "outputId": "069470a9-f00c-4db7-9ecf-44155d0ae63f"
      },
      "execution_count": 97,
      "outputs": [
        {
          "output_type": "stream",
          "name": "stdout",
          "text": [
            "Intercept cua mo hinh :  4531.155058991336\n",
            "Coef cua mo hinh la :  [-2.04787653e-06 -1.99178495e-03  1.27622373e-06 -2.51678380e-10\n",
            "  1.57837680e-14 -4.75801052e-17  2.41701173e-17 -1.22827406e-17\n",
            " -1.10931582e-16  4.61143835e-17 -1.23852407e-17 -8.70223216e-17\n",
            "  3.00240237e-17  3.43348011e-17  9.24348878e-17  2.11609161e-17\n",
            " -1.46765201e-18  4.78471971e-17  3.96275894e-17 -1.21322223e-16\n",
            " -3.67544536e-17  7.32378568e-17 -1.51788304e-17 -1.26960074e-16]\n"
          ]
        }
      ]
    },
    {
      "cell_type": "code",
      "source": [
        "model.score(X,y)"
      ],
      "metadata": {
        "colab": {
          "base_uri": "https://localhost:8080/"
        },
        "id": "KPHlurMscRSb",
        "outputId": "8cc46435-0007-469a-b061-9ea99ac8d454"
      },
      "execution_count": 98,
      "outputs": [
        {
          "output_type": "execute_result",
          "data": {
            "text/plain": [
              "0.9977188388016233"
            ]
          },
          "metadata": {},
          "execution_count": 98
        }
      ]
    },
    {
      "cell_type": "code",
      "source": [
        "import numpy as np\n",
        "range = np.arange(0,6000,0.1)\n",
        "X_range=pd.DataFrame([range**1,range**2,range**3,range**4,range**5,range**6,range**7,range**8,range**9,range**10,range**11,range**12,range**13,range**14,range**15,range**16,range**17,range**18,range**19,range**20,range**21,range**22,range**23,range**24]).T\n",
        "y_pred = model.predict(X_range)\n",
        "data.plot(kind='scatter',x='Miles(X)',y='Dollars (Y)',figsize=(9,9),color='blue',xlim=(-1000,7000))\n",
        "plt.plot(range,y_pred,color='red')"
      ],
      "metadata": {
        "colab": {
          "base_uri": "https://localhost:8080/",
          "height": 673
        },
        "id": "CvVXUw6vC24u",
        "outputId": "1cb13e74-bc84-4a09-89cc-19df2eb7cf00"
      },
      "execution_count": 100,
      "outputs": [
        {
          "output_type": "stream",
          "name": "stderr",
          "text": [
            "/usr/local/lib/python3.9/dist-packages/sklearn/base.py:439: UserWarning: X does not have valid feature names, but LinearRegression was fitted with feature names\n",
            "  warnings.warn(\n",
            "/usr/local/lib/python3.9/dist-packages/pandas/plotting/_matplotlib/core.py:1114: UserWarning: No data for colormapping provided via 'c'. Parameters 'cmap' will be ignored\n",
            "  scatter = ax.scatter(\n"
          ]
        },
        {
          "output_type": "execute_result",
          "data": {
            "text/plain": [
              "[<matplotlib.lines.Line2D at 0x7f2f4beb1100>]"
            ]
          },
          "metadata": {},
          "execution_count": 100
        },
        {
          "output_type": "display_data",
          "data": {
            "text/plain": [
              "<Figure size 648x648 with 1 Axes>"
            ],
            "image/png": "[encoded data removed]"
          },
          "metadata": {
            "needs_background": "light"
          }
        }
      ]
    },
    {
      "cell_type": "markdown",
      "source": [
        "### dùng 2 biến "
      ],
      "metadata": {
        "id": "HsiPKSpoNNCi"
      }
    },
    {
      "cell_type": "code",
      "source": [
        "model = linear_model.LinearRegression()\n",
        "model.fit(X=data.loc[:,['Passenger','Miles(X)']],y=data['Dollars (Y)'])\n",
        "print('intercept la : ',model.intercept_)\n",
        "print('coef la : ',model.coef_)\n",
        "print('do chinh xac la : ',model.score(X=data.loc[:,['Passenger','Miles(X)']],y=data['Dollars (Y)']))"
      ],
      "metadata": {
        "colab": {
          "base_uri": "https://localhost:8080/"
        },
        "id": "E6AFRCi_M2KK",
        "outputId": "9b9047fe-5888-4983-cf9a-dd131c3d6d0f"
      },
      "execution_count": 102,
      "outputs": [
        {
          "output_type": "stream",
          "name": "stdout",
          "text": [
            "intercept la :  1368.2489732097583\n",
            "coef la :  [2.20474008e+02 9.77291220e-03]\n",
            "do chinh xac la :  0.96116047036539\n"
          ]
        }
      ]
    },
    {
      "cell_type": "code",
      "source": [],
      "metadata": {
        "id": "YK325l15NGHw"
      },
      "execution_count": null,
      "outputs": []
    }
  ]
}