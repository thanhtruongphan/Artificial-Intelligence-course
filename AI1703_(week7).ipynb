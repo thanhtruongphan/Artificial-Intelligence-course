{
  "nbformat": 4,
  "nbformat_minor": 0,
  "metadata": {
    "colab": {
      "provenance": [],
      "toc_visible": true,
      "mount_file_id": "15v3avl8tv7f5SUeyAz-wK1_GVPehIgvx",
      "authorship_tag": "ABX9TyPvKmniNXLud/59QKA2KAqD",
      "include_colab_link": true
    },
    "kernelspec": {
      "name": "python3",
      "display_name": "Python 3"
    },
    "language_info": {
      "name": "python"
    }
  },
  "cells": [
    {
      "cell_type": "markdown",
      "metadata": {
        "id": "view-in-github",
        "colab_type": "text"
      },
      "source": [
        "<a href=\"https://colab.research.google.com/github/thanhtruongphan/HomeworkAI/blob/main/AI1703_(week7).ipynb\" target=\"_parent\"><img src=\"https://colab.research.google.com/assets/colab-badge.svg\" alt=\"Open In Colab\"/></a>"
      ]
    },
    {
      "cell_type": "markdown",
      "source": [
        "# 1 biến "
      ],
      "metadata": {
        "id": "Od186RVwOoqz"
      }
    },
    {
      "cell_type": "markdown",
      "source": [
        "###Tiền Xử lý"
      ],
      "metadata": {
        "id": "enoovtNFHe0L"
      }
    },
    {
      "cell_type": "code",
      "execution_count": 3,
      "metadata": {
        "id": "Rb2lSyh7Gdqm"
      },
      "outputs": [],
      "source": [
        "import pandas as pd "
      ]
    },
    {
      "cell_type": "code",
      "source": [
        "url_mt = '/content/drive/MyDrive/A_HOC TAP/Nam 4, Hoc ky 2/Artificial Intelligence/Code_AI/files/mtcars.csv'\n",
        "data_mt = pd.read_csv(url_mt)\n",
        "data_mt.head()"
      ],
      "metadata": {
        "colab": {
          "base_uri": "https://localhost:8080/",
          "height": 206
        },
        "id": "rt7G8RtZGx8U",
        "outputId": "58d392ed-a414-47f6-bd7c-7b7806fd9fe3"
      },
      "execution_count": 4,
      "outputs": [
        {
          "output_type": "execute_result",
          "data": {
            "text/plain": [
              "          Unnamed: 0   mpg   disp   hp     wt\n",
              "0          Mazda RX4  21.0  160.0  110  2.620\n",
              "1      Mazda RX4 Wag  21.0  160.0  110  2.875\n",
              "2         Datsun 710  22.8  108.0   93  2.320\n",
              "3     Hornet 4 Drive  21.4  258.0  110  3.215\n",
              "4  Hornet Sportabout  18.7  360.0  175  3.440"
            ],
            "text/html": [
              "\n",
              "  <div id=\"df-3cf3419b-1d95-48f1-9858-97b84ea2e493\">\n",
              "    <div class=\"colab-df-container\">\n",
              "      <div>\n",
              "<style scoped>\n",
              "    .dataframe tbody tr th:only-of-type {\n",
              "        vertical-align: middle;\n",
              "    }\n",
              "\n",
              "    .dataframe tbody tr th {\n",
              "        vertical-align: top;\n",
              "    }\n",
              "\n",
              "    .dataframe thead th {\n",
              "        text-align: right;\n",
              "    }\n",
              "</style>\n",
              "<table border=\"1\" class=\"dataframe\">\n",
              "  <thead>\n",
              "    <tr style=\"text-align: right;\">\n",
              "      <th></th>\n",
              "      <th>Unnamed: 0</th>\n",
              "      <th>mpg</th>\n",
              "      <th>disp</th>\n",
              "      <th>hp</th>\n",
              "      <th>wt</th>\n",
              "    </tr>\n",
              "  </thead>\n",
              "  <tbody>\n",
              "    <tr>\n",
              "      <th>0</th>\n",
              "      <td>Mazda RX4</td>\n",
              "      <td>21.0</td>\n",
              "      <td>160.0</td>\n",
              "      <td>110</td>\n",
              "      <td>2.620</td>\n",
              "    </tr>\n",
              "    <tr>\n",
              "      <th>1</th>\n",
              "      <td>Mazda RX4 Wag</td>\n",
              "      <td>21.0</td>\n",
              "      <td>160.0</td>\n",
              "      <td>110</td>\n",
              "      <td>2.875</td>\n",
              "    </tr>\n",
              "    <tr>\n",
              "      <th>2</th>\n",
              "      <td>Datsun 710</td>\n",
              "      <td>22.8</td>\n",
              "      <td>108.0</td>\n",
              "      <td>93</td>\n",
              "      <td>2.320</td>\n",
              "    </tr>\n",
              "    <tr>\n",
              "      <th>3</th>\n",
              "      <td>Hornet 4 Drive</td>\n",
              "      <td>21.4</td>\n",
              "      <td>258.0</td>\n",
              "      <td>110</td>\n",
              "      <td>3.215</td>\n",
              "    </tr>\n",
              "    <tr>\n",
              "      <th>4</th>\n",
              "      <td>Hornet Sportabout</td>\n",
              "      <td>18.7</td>\n",
              "      <td>360.0</td>\n",
              "      <td>175</td>\n",
              "      <td>3.440</td>\n",
              "    </tr>\n",
              "  </tbody>\n",
              "</table>\n",
              "</div>\n",
              "      <button class=\"colab-df-convert\" onclick=\"convertToInteractive('df-3cf3419b-1d95-48f1-9858-97b84ea2e493')\"\n",
              "              title=\"Convert this dataframe to an interactive table.\"\n",
              "              style=\"display:none;\">\n",
              "        \n",
              "  <svg xmlns=\"http://www.w3.org/2000/svg\" height=\"24px\"viewBox=\"0 0 24 24\"\n",
              "       width=\"24px\">\n",
              "    <path d=\"M0 0h24v24H0V0z\" fill=\"none\"/>\n",
              "    <path d=\"M18.56 5.44l.94 2.06.94-2.06 2.06-.94-2.06-.94-.94-2.06-.94 2.06-2.06.94zm-11 1L8.5 8.5l.94-2.06 2.06-.94-2.06-.94L8.5 2.5l-.94 2.06-2.06.94zm10 10l.94 2.06.94-2.06 2.06-.94-2.06-.94-.94-2.06-.94 2.06-2.06.94z\"/><path d=\"M17.41 7.96l-1.37-1.37c-.4-.4-.92-.59-1.43-.59-.52 0-1.04.2-1.43.59L10.3 9.45l-7.72 7.72c-.78.78-.78 2.05 0 2.83L4 21.41c.39.39.9.59 1.41.59.51 0 1.02-.2 1.41-.59l7.78-7.78 2.81-2.81c.8-.78.8-2.07 0-2.86zM5.41 20L4 18.59l7.72-7.72 1.47 1.35L5.41 20z\"/>\n",
              "  </svg>\n",
              "      </button>\n",
              "      \n",
              "  <style>\n",
              "    .colab-df-container {\n",
              "      display:flex;\n",
              "      flex-wrap:wrap;\n",
              "      gap: 12px;\n",
              "    }\n",
              "\n",
              "    .colab-df-convert {\n",
              "      background-color: #E8F0FE;\n",
              "      border: none;\n",
              "      border-radius: 50%;\n",
              "      cursor: pointer;\n",
              "      display: none;\n",
              "      fill: #1967D2;\n",
              "      height: 32px;\n",
              "      padding: 0 0 0 0;\n",
              "      width: 32px;\n",
              "    }\n",
              "\n",
              "    .colab-df-convert:hover {\n",
              "      background-color: #E2EBFA;\n",
              "      box-shadow: 0px 1px 2px rgba(60, 64, 67, 0.3), 0px 1px 3px 1px rgba(60, 64, 67, 0.15);\n",
              "      fill: #174EA6;\n",
              "    }\n",
              "\n",
              "    [theme=dark] .colab-df-convert {\n",
              "      background-color: #3B4455;\n",
              "      fill: #D2E3FC;\n",
              "    }\n",
              "\n",
              "    [theme=dark] .colab-df-convert:hover {\n",
              "      background-color: #434B5C;\n",
              "      box-shadow: 0px 1px 3px 1px rgba(0, 0, 0, 0.15);\n",
              "      filter: drop-shadow(0px 1px 2px rgba(0, 0, 0, 0.3));\n",
              "      fill: #FFFFFF;\n",
              "    }\n",
              "  </style>\n",
              "\n",
              "      <script>\n",
              "        const buttonEl =\n",
              "          document.querySelector('#df-3cf3419b-1d95-48f1-9858-97b84ea2e493 button.colab-df-convert');\n",
              "        buttonEl.style.display =\n",
              "          google.colab.kernel.accessAllowed ? 'block' : 'none';\n",
              "\n",
              "        async function convertToInteractive(key) {\n",
              "          const element = document.querySelector('#df-3cf3419b-1d95-48f1-9858-97b84ea2e493');\n",
              "          const dataTable =\n",
              "            await google.colab.kernel.invokeFunction('convertToInteractive',\n",
              "                                                     [key], {});\n",
              "          if (!dataTable) return;\n",
              "\n",
              "          const docLinkHtml = 'Like what you see? Visit the ' +\n",
              "            '<a target=\"_blank\" href=https://colab.research.google.com/notebooks/data_table.ipynb>data table notebook</a>'\n",
              "            + ' to learn more about interactive tables.';\n",
              "          element.innerHTML = '';\n",
              "          dataTable['output_type'] = 'display_data';\n",
              "          await google.colab.output.renderOutput(dataTable, element);\n",
              "          const docLink = document.createElement('div');\n",
              "          docLink.innerHTML = docLinkHtml;\n",
              "          element.appendChild(docLink);\n",
              "        }\n",
              "      </script>\n",
              "    </div>\n",
              "  </div>\n",
              "  "
            ]
          },
          "metadata": {},
          "execution_count": 4
        }
      ]
    },
    {
      "cell_type": "code",
      "source": [
        "import matplotlib.pyplot as plt\n",
        "data_mt.hist()\n",
        "plt.show()"
      ],
      "metadata": {
        "colab": {
          "base_uri": "https://localhost:8080/",
          "height": 281
        },
        "id": "gxLadJTlHFVS",
        "outputId": "d7a6e9ec-a596-4ced-ee90-e42dee6cae1a"
      },
      "execution_count": 5,
      "outputs": [
        {
          "output_type": "display_data",
          "data": {
            "text/plain": [
              "<Figure size 432x288 with 4 Axes>"
            ],
            "image/png": "[encoded data removed]"
          },
          "metadata": {
            "needs_background": "light"
          }
        }
      ]
    },
    {
      "cell_type": "code",
      "source": [
        "# from google.colab import drive\n",
        "# drive.mount('/content/UntitledFolder')"
      ],
      "metadata": {
        "id": "woAoW15BHMxP"
      },
      "execution_count": 6,
      "outputs": []
    },
    {
      "cell_type": "code",
      "source": [
        "correlation_mt = data_mt.corr()\n",
        "print(correlation_mt)"
      ],
      "metadata": {
        "colab": {
          "base_uri": "https://localhost:8080/"
        },
        "id": "R9J5W_TAHayx",
        "outputId": "191d2840-8698-4c54-d3d7-38f0d7e4a773"
      },
      "execution_count": 8,
      "outputs": [
        {
          "output_type": "stream",
          "name": "stdout",
          "text": [
            "           mpg      disp        hp        wt\n",
            "mpg   1.000000 -0.847551 -0.776168 -0.867659\n",
            "disp -0.847551  1.000000  0.790949  0.887980\n",
            "hp   -0.776168  0.790949  1.000000  0.658748\n",
            "wt   -0.867659  0.887980  0.658748  1.000000\n"
          ]
        }
      ]
    },
    {
      "cell_type": "code",
      "source": [
        "import seaborn as sns \n",
        "sns.heatmap(correlation_mt, annot = True)"
      ],
      "metadata": {
        "colab": {
          "base_uri": "https://localhost:8080/",
          "height": 287
        },
        "id": "MXWzEmJ3H4xV",
        "outputId": "1823deeb-395f-4540-9e13-9f72f71e91cb"
      },
      "execution_count": 9,
      "outputs": [
        {
          "output_type": "execute_result",
          "data": {
            "text/plain": [
              "<Axes: >"
            ]
          },
          "metadata": {},
          "execution_count": 9
        },
        {
          "output_type": "display_data",
          "data": {
            "text/plain": [
              "<Figure size 432x288 with 2 Axes>"
            ],
            "image/png": "[encoded data removed]"
          },
          "metadata": {
            "needs_background": "light"
          }
        }
      ]
    },
    {
      "cell_type": "code",
      "source": [],
      "metadata": {
        "id": "qNubdsxrKKl0"
      },
      "execution_count": 9,
      "outputs": []
    },
    {
      "cell_type": "code",
      "source": [
        "sns.pairplot(data_mt)"
      ],
      "metadata": {
        "colab": {
          "base_uri": "https://localhost:8080/",
          "height": 744
        },
        "id": "6fsWtxiSJZ_0",
        "outputId": "cf4d1a56-8360-473f-9fa6-8cb325bb77e1"
      },
      "execution_count": 10,
      "outputs": [
        {
          "output_type": "execute_result",
          "data": {
            "text/plain": [
              "<seaborn.axisgrid.PairGrid at 0x7f7ec8534730>"
            ]
          },
          "metadata": {},
          "execution_count": 10
        },
        {
          "output_type": "display_data",
          "data": {
            "text/plain": [
              "<Figure size 720x720 with 20 Axes>"
            ],
            "image/png": "[encoded data removed]"
          },
          "metadata": {
            "needs_background": "light"
          }
        }
      ]
    },
    {
      "cell_type": "code",
      "source": [],
      "metadata": {
        "id": "no7hWj1AJg_M"
      },
      "execution_count": 10,
      "outputs": []
    },
    {
      "cell_type": "markdown",
      "source": [
        "###Linear Bậc 1"
      ],
      "metadata": {
        "id": "iqfAMN1cH2TW"
      }
    },
    {
      "cell_type": "code",
      "source": [
        "#1 import library \n",
        "from sklearn import linear_model"
      ],
      "metadata": {
        "id": "oPJWwlTzKLlL"
      },
      "execution_count": 11,
      "outputs": []
    },
    {
      "cell_type": "code",
      "source": [
        "#2 fit-model, find intercept & coef\n",
        "model = linear_model.LinearRegression()\n",
        "model.fit(X=pd.DataFrame(data_mt['wt']),y= data_mt['mpg'])\n",
        "print(\"He so intercept la : \", model.intercept_)\n",
        "print(\"He so coef la : \", model.coef_)"
      ],
      "metadata": {
        "id": "If92E7dgKSsQ",
        "colab": {
          "base_uri": "https://localhost:8080/"
        },
        "outputId": "3871e2c1-a767-4787-bed3-b1c24ba3156a"
      },
      "execution_count": 17,
      "outputs": [
        {
          "output_type": "stream",
          "name": "stdout",
          "text": [
            "He so intercept la :  37.28512616734204\n",
            "He so coef la :  [-5.34447157]\n"
          ]
        }
      ]
    },
    {
      "cell_type": "markdown",
      "source": [
        "mpg = -5.34wt + 37.285"
      ],
      "metadata": {
        "id": "9u2KSO-HLVOJ"
      }
    },
    {
      "cell_type": "code",
      "source": [
        "#3 kiem tra do chinh xac\n",
        "model.score(X=pd.DataFrame(data_mt['wt']),y= data_mt['mpg'])"
      ],
      "metadata": {
        "colab": {
          "base_uri": "https://localhost:8080/"
        },
        "id": "w4-9cjAbLPjp",
        "outputId": "3e78ae6b-fd7c-4c28-d2ad-759175ad0c70"
      },
      "execution_count": 18,
      "outputs": [
        {
          "output_type": "execute_result",
          "data": {
            "text/plain": [
              "0.7528327936582646"
            ]
          },
          "metadata": {},
          "execution_count": 18
        }
      ]
    },
    {
      "cell_type": "code",
      "source": [
        "#4 ve do thi \n",
        "y_pred = model.predict(X=pd.DataFrame(data_mt['wt']))\n",
        "data_mt.plot(kind='scatter',x='wt',y='mpg',figsize=(9,9),color='black',xlim=(0,7))\n",
        "plt.plot(data_mt['wt'],y_pred,color='blue')"
      ],
      "metadata": {
        "colab": {
          "base_uri": "https://localhost:8080/",
          "height": 626
        },
        "id": "J-wioYrTNJCw",
        "outputId": "ba8522f7-d5ee-46fe-9d80-a1baafafaa92"
      },
      "execution_count": 16,
      "outputs": [
        {
          "output_type": "stream",
          "name": "stderr",
          "text": [
            "/usr/local/lib/python3.9/dist-packages/pandas/plotting/_matplotlib/core.py:1114: UserWarning: No data for colormapping provided via 'c'. Parameters 'cmap' will be ignored\n",
            "  scatter = ax.scatter(\n"
          ]
        },
        {
          "output_type": "execute_result",
          "data": {
            "text/plain": [
              "[<matplotlib.lines.Line2D at 0x7f7ec67b0340>]"
            ]
          },
          "metadata": {},
          "execution_count": 16
        },
        {
          "output_type": "display_data",
          "data": {
            "text/plain": [
              "<Figure size 648x648 with 1 Axes>"
            ],
            "image/png": "[encoded data removed]"
          },
          "metadata": {
            "needs_background": "light"
          }
        }
      ]
    },
    {
      "cell_type": "code",
      "source": [],
      "metadata": {
        "id": "5xBVaveYNkZh"
      },
      "execution_count": 16,
      "outputs": []
    },
    {
      "cell_type": "markdown",
      "source": [
        "###Bậc 2"
      ],
      "metadata": {
        "id": "YLMK_SlBO9cF"
      }
    },
    {
      "cell_type": "code",
      "source": [
        "#2 fit \n",
        "model=linear_model.LinearRegression()\n",
        "X=pd.DataFrame([data_mt['wt'],\n",
        "                data_mt['wt']**2]).T \n",
        "y=data_mt['mpg']\n",
        "model.fit(X,y)\n",
        "print('Intercept cua mo hinh : ', model.intercept_)\n",
        "print('Coef cua mo hinh la : ',model.coef_)"
      ],
      "metadata": {
        "colab": {
          "base_uri": "https://localhost:8080/"
        },
        "id": "zNTbdGJXO9xH",
        "outputId": "31f5c25b-009c-4af6-b7cf-a0c7586db009"
      },
      "execution_count": 20,
      "outputs": [
        {
          "output_type": "stream",
          "name": "stdout",
          "text": [
            "Intercept cua mo hinh :  49.93081094945181\n",
            "Coef cua mo hinh la :  [-13.38033708   1.17108689]\n"
          ]
        }
      ]
    },
    {
      "cell_type": "code",
      "source": [
        "#3 score\n",
        "print('Do chinh xac cua mo hinh la : ',model.score(X,y))"
      ],
      "metadata": {
        "colab": {
          "base_uri": "https://localhost:8080/"
        },
        "id": "xrOZeWe5PjnW",
        "outputId": "ec63802f-bf81-4861-c006-baf4c62626b4"
      },
      "execution_count": 23,
      "outputs": [
        {
          "output_type": "stream",
          "name": "stdout",
          "text": [
            "Do chinh xac cua mo hinh la :  0.8190613581384094\n"
          ]
        }
      ]
    },
    {
      "cell_type": "markdown",
      "source": [
        "mpg = -13.38wt + 1.1wt^2 + 49.93"
      ],
      "metadata": {
        "id": "rykv7KZhRUpP"
      }
    },
    {
      "cell_type": "code",
      "source": [],
      "metadata": {
        "id": "zZH_2tzWPry7"
      },
      "execution_count": 23,
      "outputs": []
    },
    {
      "cell_type": "code",
      "source": [
        "#4 plot \n",
        "import numpy as np\n",
        "range = np.arange(1.5,5.5,0.1)\n",
        "X_range = pd.DataFrame([range,range**2]).T\n",
        "y_pred = model.predict(X=X_range)\n",
        "data_mt.plot(kind='scatter',x='wt',y='mpg',figsize=(9,9),color='black',xlim=(0,7))\n",
        "plt.plot(range,y_pred,color='blue')"
      ],
      "metadata": {
        "colab": {
          "base_uri": "https://localhost:8080/",
          "height": 665
        },
        "id": "l32XKC70Qv9F",
        "outputId": "c57dd103-c949-4de2-963c-48e6e7a89dd9"
      },
      "execution_count": 27,
      "outputs": [
        {
          "output_type": "stream",
          "name": "stderr",
          "text": [
            "/usr/local/lib/python3.9/dist-packages/sklearn/base.py:439: UserWarning: X does not have valid feature names, but LinearRegression was fitted with feature names\n",
            "  warnings.warn(\n",
            "/usr/local/lib/python3.9/dist-packages/pandas/plotting/_matplotlib/core.py:1114: UserWarning: No data for colormapping provided via 'c'. Parameters 'cmap' will be ignored\n",
            "  scatter = ax.scatter(\n"
          ]
        },
        {
          "output_type": "execute_result",
          "data": {
            "text/plain": [
              "[<matplotlib.lines.Line2D at 0x7f7ed83886d0>]"
            ]
          },
          "metadata": {},
          "execution_count": 27
        },
        {
          "output_type": "display_data",
          "data": {
            "text/plain": [
              "<Figure size 648x648 with 1 Axes>"
            ],
            "image/png": "[encoded data removed]"
          },
          "metadata": {
            "needs_background": "light"
          }
        }
      ]
    },
    {
      "cell_type": "code",
      "source": [],
      "metadata": {
        "id": "F8AGJc-HSDRP"
      },
      "execution_count": null,
      "outputs": []
    },
    {
      "cell_type": "code",
      "source": [],
      "metadata": {
        "id": "P6uYVrs3SXGj"
      },
      "execution_count": null,
      "outputs": []
    },
    {
      "cell_type": "markdown",
      "source": [
        "###bậc 3"
      ],
      "metadata": {
        "id": "uBQkgfiQS6hx"
      }
    },
    {
      "cell_type": "code",
      "source": [
        "model=linear_model.LinearRegression()\n",
        "X=pd.DataFrame([data_mt['wt'],data_mt['wt']**2,\n",
        "                data_mt['wt']**3]).T \n",
        "y=data_mt['mpg']\n",
        "model.fit(X,y)\n",
        "print('Intercept cua mo hinh : ', model.intercept_)\n",
        "print('Coef cua mo hinh la : ',model.coef_)"
      ],
      "metadata": {
        "colab": {
          "base_uri": "https://localhost:8080/"
        },
        "id": "FCHFHmAMTDLF",
        "outputId": "6e6dc634-ad0e-4a0d-a0d8-16f596a39bf4"
      },
      "execution_count": 50,
      "outputs": [
        {
          "output_type": "stream",
          "name": "stdout",
          "text": [
            "Intercept cua mo hinh :  48.40369622795221\n",
            "Coef cua mo hinh la :  [-11.82597602   0.68937919   0.04593618]\n"
          ]
        }
      ]
    },
    {
      "cell_type": "code",
      "source": [
        "model.score(X,y)"
      ],
      "metadata": {
        "colab": {
          "base_uri": "https://localhost:8080/"
        },
        "id": "2NPw4W3gTLo0",
        "outputId": "79fa7fbf-1d98-4e6d-9c9a-3f2f60236d43"
      },
      "execution_count": 51,
      "outputs": [
        {
          "output_type": "execute_result",
          "data": {
            "text/plain": [
              "0.8191284628478992"
            ]
          },
          "metadata": {},
          "execution_count": 51
        }
      ]
    },
    {
      "cell_type": "code",
      "source": [
        "import numpy as np\n",
        "range = np.arange(1.5,5.5,0.1)\n",
        "X_range=pd.DataFrame([range**1,range**2,range**3]).T\n",
        "y_pred = model.predict(X_range)\n",
        "data_mt.plot(kind='scatter',x='wt',y='mpg',figsize=(9,9),color='black',xlim=(0,7))\n",
        "plt.plot(range,y_pred,color='blue')"
      ],
      "metadata": {
        "id": "_Um2IUwsXnpc",
        "colab": {
          "base_uri": "https://localhost:8080/",
          "height": 665
        },
        "outputId": "08efce6f-3bb8-443c-b328-750cf627b177"
      },
      "execution_count": 52,
      "outputs": [
        {
          "output_type": "stream",
          "name": "stderr",
          "text": [
            "/usr/local/lib/python3.9/dist-packages/sklearn/base.py:439: UserWarning: X does not have valid feature names, but LinearRegression was fitted with feature names\n",
            "  warnings.warn(\n",
            "/usr/local/lib/python3.9/dist-packages/pandas/plotting/_matplotlib/core.py:1114: UserWarning: No data for colormapping provided via 'c'. Parameters 'cmap' will be ignored\n",
            "  scatter = ax.scatter(\n"
          ]
        },
        {
          "output_type": "execute_result",
          "data": {
            "text/plain": [
              "[<matplotlib.lines.Line2D at 0x7f7ec3d01e80>]"
            ]
          },
          "metadata": {},
          "execution_count": 52
        },
        {
          "output_type": "display_data",
          "data": {
            "text/plain": [
              "<Figure size 648x648 with 1 Axes>"
            ],
            "image/png": "[encoded data removed]"
          },
          "metadata": {
            "needs_background": "light"
          }
        }
      ]
    },
    {
      "cell_type": "markdown",
      "source": [
        "###Bậc 4"
      ],
      "metadata": {
        "id": "MQg9T5M9STkS"
      }
    },
    {
      "cell_type": "code",
      "source": [
        "model=linear_model.LinearRegression()\n",
        "X=pd.DataFrame([data_mt['wt'],data_mt['wt']**2,\n",
        "                data_mt['wt']**3,data_mt['wt']**4]).T \n",
        "y=data_mt['mpg']\n",
        "model.fit(X,y)\n",
        "print('Intercept cua mo hinh : ', model.intercept_)\n",
        "print('Coef cua mo hinh la : ',model.coef_)"
      ],
      "metadata": {
        "colab": {
          "base_uri": "https://localhost:8080/"
        },
        "id": "aEvJX7dJST-f",
        "outputId": "7d0e85cb-fb39-4355-ff38-ae2d2d1cde85"
      },
      "execution_count": 53,
      "outputs": [
        {
          "output_type": "stream",
          "name": "stdout",
          "text": [
            "Intercept cua mo hinh :  14.455833054796258\n",
            "Coef cua mo hinh la :  [ 36.61945631 -23.70175729   5.20042113  -0.38627878]\n"
          ]
        }
      ]
    },
    {
      "cell_type": "code",
      "source": [
        "model.score(X,y)"
      ],
      "metadata": {
        "colab": {
          "base_uri": "https://localhost:8080/"
        },
        "id": "k6h6E5o_SUEd",
        "outputId": "6a6cd8f8-b292-4225-e252-a360fba7353b"
      },
      "execution_count": 54,
      "outputs": [
        {
          "output_type": "execute_result",
          "data": {
            "text/plain": [
              "0.8219709873435187"
            ]
          },
          "metadata": {},
          "execution_count": 54
        }
      ]
    },
    {
      "cell_type": "code",
      "source": [
        "import numpy as np\n",
        "range = np.arange(1.5,5.5,0.1)\n",
        "X_range=pd.DataFrame([range**1,range**2,range**3,range**4]).T\n",
        "y_pred = model.predict(X_range)\n",
        "data_mt.plot(kind='scatter',x='wt',y='mpg',figsize=(9,9),color='black',xlim=(0,7))\n",
        "plt.plot(range,y_pred,color='blue')"
      ],
      "metadata": {
        "colab": {
          "base_uri": "https://localhost:8080/",
          "height": 665
        },
        "id": "3ksJuNLuSUHR",
        "outputId": "d82662d7-624e-4f57-a3d7-5f8aedc2de9c"
      },
      "execution_count": 55,
      "outputs": [
        {
          "output_type": "stream",
          "name": "stderr",
          "text": [
            "/usr/local/lib/python3.9/dist-packages/sklearn/base.py:439: UserWarning: X does not have valid feature names, but LinearRegression was fitted with feature names\n",
            "  warnings.warn(\n",
            "/usr/local/lib/python3.9/dist-packages/pandas/plotting/_matplotlib/core.py:1114: UserWarning: No data for colormapping provided via 'c'. Parameters 'cmap' will be ignored\n",
            "  scatter = ax.scatter(\n"
          ]
        },
        {
          "output_type": "execute_result",
          "data": {
            "text/plain": [
              "[<matplotlib.lines.Line2D at 0x7f7ec3ce46d0>]"
            ]
          },
          "metadata": {},
          "execution_count": 55
        },
        {
          "output_type": "display_data",
          "data": {
            "text/plain": [
              "<Figure size 648x648 with 1 Axes>"
            ],
            "image/png": "[encoded data removed]"
          },
          "metadata": {
            "needs_background": "light"
          }
        }
      ]
    },
    {
      "cell_type": "code",
      "source": [],
      "metadata": {
        "id": "zjO0I_pRSUZp"
      },
      "execution_count": null,
      "outputs": []
    },
    {
      "cell_type": "markdown",
      "source": [
        "###Bậc 5"
      ],
      "metadata": {
        "id": "I4-pgOPiSsPu"
      }
    },
    {
      "cell_type": "code",
      "source": [
        "model=linear_model.LinearRegression()\n",
        "X=pd.DataFrame([data_mt['wt'],data_mt['wt']**2,\n",
        "                data_mt['wt']**3,data_mt['wt']**4,\n",
        "                data_mt['wt']**5]).T \n",
        "y=data_mt['mpg']\n",
        "model.fit(X,y)\n",
        "print('Intercept cua mo hinh : ', model.intercept_)\n",
        "print('Coef cua mo hinh la : ',model.coef_)"
      ],
      "metadata": {
        "colab": {
          "base_uri": "https://localhost:8080/"
        },
        "id": "NAawCVnZSsmb",
        "outputId": "d82e92fb-6b7b-4b3f-cdc7-27a21117f2f9"
      },
      "execution_count": 56,
      "outputs": [
        {
          "output_type": "stream",
          "name": "stdout",
          "text": [
            "Intercept cua mo hinh :  -87.71816314301019\n",
            "Coef cua mo hinh la :  [ 218.88967608 -147.77842682   45.60934841   -6.70138798    0.37968337]\n"
          ]
        }
      ]
    },
    {
      "cell_type": "code",
      "source": [
        "model.score(X,y)"
      ],
      "metadata": {
        "colab": {
          "base_uri": "https://localhost:8080/"
        },
        "id": "HpEBYfD6Sssu",
        "outputId": "3d5aa853-a50d-4fbb-d4b1-2b2e0bffb18e"
      },
      "execution_count": 57,
      "outputs": [
        {
          "output_type": "execute_result",
          "data": {
            "text/plain": [
              "0.8251088272653132"
            ]
          },
          "metadata": {},
          "execution_count": 57
        }
      ]
    },
    {
      "cell_type": "code",
      "source": [
        "import numpy as np\n",
        "range = np.arange(1.5,5.5,0.1)\n",
        "X_range=pd.DataFrame([range**1,range**2,range**3,range**4,range**5]).T\n",
        "y_pred = model.predict(X_range)\n",
        "data_mt.plot(kind='scatter',x='wt',y='mpg',figsize=(9,9),color='black',xlim=(0,7))\n",
        "plt.plot(range,y_pred,color='blue')"
      ],
      "metadata": {
        "colab": {
          "base_uri": "https://localhost:8080/",
          "height": 665
        },
        "id": "YuFIhYVoSs5M",
        "outputId": "dfe4a19e-df25-4d8b-a508-79485809b5fc"
      },
      "execution_count": 59,
      "outputs": [
        {
          "output_type": "stream",
          "name": "stderr",
          "text": [
            "/usr/local/lib/python3.9/dist-packages/sklearn/base.py:439: UserWarning: X does not have valid feature names, but LinearRegression was fitted with feature names\n",
            "  warnings.warn(\n",
            "/usr/local/lib/python3.9/dist-packages/pandas/plotting/_matplotlib/core.py:1114: UserWarning: No data for colormapping provided via 'c'. Parameters 'cmap' will be ignored\n",
            "  scatter = ax.scatter(\n"
          ]
        },
        {
          "output_type": "execute_result",
          "data": {
            "text/plain": [
              "[<matplotlib.lines.Line2D at 0x7f7ec61510d0>]"
            ]
          },
          "metadata": {},
          "execution_count": 59
        },
        {
          "output_type": "display_data",
          "data": {
            "text/plain": [
              "<Figure size 648x648 with 1 Axes>"
            ],
            "image/png": "[encoded data removed]"
          },
          "metadata": {
            "needs_background": "light"
          }
        }
      ]
    },
    {
      "cell_type": "markdown",
      "source": [
        "###Bậc 7 "
      ],
      "metadata": {
        "id": "YBTzfod7TIeo"
      }
    },
    {
      "cell_type": "code",
      "source": [
        "model=linear_model.LinearRegression()\n",
        "X=pd.DataFrame([data_mt['wt'],data_mt['wt']**2,\n",
        "                data_mt['wt']**3,data_mt['wt']**4,\n",
        "                data_mt['wt']**5,data_mt['wt']**6,\n",
        "                data_mt['wt']**7]).T \n",
        "y=data_mt['mpg']\n",
        "model.fit(X,y)\n",
        "print('Intercept cua mo hinh : ', model.intercept_)\n",
        "print('Coef cua mo hinh la : ',model.coef_)"
      ],
      "metadata": {
        "colab": {
          "base_uri": "https://localhost:8080/"
        },
        "id": "gFtUKQUmTIxK",
        "outputId": "ad8e8ac3-4215-47e5-c4e7-061da1a073d3"
      },
      "execution_count": 60,
      "outputs": [
        {
          "output_type": "stream",
          "name": "stdout",
          "text": [
            "Intercept cua mo hinh :  -2387.286256135588\n",
            "Coef cua mo hinh la :  [ 5.71347281e+03 -5.57680321e+03  2.92547757e+03 -8.93984147e+02\n",
            "  1.59440329e+02 -1.53893379e+01  6.21028572e-01]\n"
          ]
        }
      ]
    },
    {
      "cell_type": "code",
      "source": [
        "model.score(X,y)"
      ],
      "metadata": {
        "colab": {
          "base_uri": "https://localhost:8080/"
        },
        "id": "Vm-PRE2FTI5T",
        "outputId": "2fbb52e4-ccaa-459e-e4cc-fba6982785fd"
      },
      "execution_count": 61,
      "outputs": [
        {
          "output_type": "execute_result",
          "data": {
            "text/plain": [
              "0.8380739929060077"
            ]
          },
          "metadata": {},
          "execution_count": 61
        }
      ]
    },
    {
      "cell_type": "code",
      "source": [
        "import numpy as np\n",
        "range = np.arange(1.5,5.5,0.1)\n",
        "X_range=pd.DataFrame([range**1,range**2,range**3,range**4,range**5,range**6,range**7]).T\n",
        "y_pred = model.predict(X_range)\n",
        "data_mt.plot(kind='scatter',x='wt',y='mpg',figsize=(9,9),color='black',xlim=(0,7))\n",
        "plt.plot(range,y_pred,color='blue')"
      ],
      "metadata": {
        "colab": {
          "base_uri": "https://localhost:8080/",
          "height": 665
        },
        "id": "azjSSYiBTJD8",
        "outputId": "79792792-17c6-4ba7-f8a0-459bd9fe285f"
      },
      "execution_count": 62,
      "outputs": [
        {
          "output_type": "stream",
          "name": "stderr",
          "text": [
            "/usr/local/lib/python3.9/dist-packages/sklearn/base.py:439: UserWarning: X does not have valid feature names, but LinearRegression was fitted with feature names\n",
            "  warnings.warn(\n",
            "/usr/local/lib/python3.9/dist-packages/pandas/plotting/_matplotlib/core.py:1114: UserWarning: No data for colormapping provided via 'c'. Parameters 'cmap' will be ignored\n",
            "  scatter = ax.scatter(\n"
          ]
        },
        {
          "output_type": "execute_result",
          "data": {
            "text/plain": [
              "[<matplotlib.lines.Line2D at 0x7f7ec3a47160>]"
            ]
          },
          "metadata": {},
          "execution_count": 62
        },
        {
          "output_type": "display_data",
          "data": {
            "text/plain": [
              "<Figure size 648x648 with 1 Axes>"
            ],
            "image/png": "[encoded data removed]"
          },
          "metadata": {
            "needs_background": "light"
          }
        }
      ]
    },
    {
      "cell_type": "code",
      "source": [],
      "metadata": {
        "id": "gV3ixhAeTJNi"
      },
      "execution_count": null,
      "outputs": []
    },
    {
      "cell_type": "markdown",
      "source": [
        "###Bậc 9"
      ],
      "metadata": {
        "id": "3iNWzEJ_TbuH"
      }
    },
    {
      "cell_type": "code",
      "source": [
        "model=linear_model.LinearRegression()\n",
        "X=pd.DataFrame([data_mt['wt'],data_mt['wt']**2,\n",
        "                data_mt['wt']**3,data_mt['wt']**4,\n",
        "                data_mt['wt']**5,data_mt['wt']**6,\n",
        "                data_mt['wt']**7,data_mt['wt']**8,\n",
        "                data_mt['wt']**9]).T \n",
        "y=data_mt['mpg']\n",
        "model.fit(X,y)\n",
        "print('Intercept cua mo hinh : ', model.intercept_)\n",
        "print('Coef cua mo hinh la : ',model.coef_)"
      ],
      "metadata": {
        "colab": {
          "base_uri": "https://localhost:8080/"
        },
        "id": "I0fGJV2xTcAE",
        "outputId": "1f5ea601-59b5-4b54-fddb-351dbc231e80"
      },
      "execution_count": 63,
      "outputs": [
        {
          "output_type": "stream",
          "name": "stdout",
          "text": [
            "Intercept cua mo hinh :  38889.610890257565\n",
            "Coef cua mo hinh la :  [-1.25317627e+05  1.74784059e+05 -1.38423294e+05  6.86522656e+04\n",
            " -2.21343938e+04  4.64432999e+03 -6.12230173e+02  4.60606389e+01\n",
            " -1.50849985e+00]\n"
          ]
        }
      ]
    },
    {
      "cell_type": "code",
      "source": [
        "model.score(X,y)"
      ],
      "metadata": {
        "colab": {
          "base_uri": "https://localhost:8080/"
        },
        "id": "j8948K1HTcJk",
        "outputId": "b8680ead-103a-468a-9161-4a6f1e616452"
      },
      "execution_count": 64,
      "outputs": [
        {
          "output_type": "execute_result",
          "data": {
            "text/plain": [
              "0.8646786785489688"
            ]
          },
          "metadata": {},
          "execution_count": 64
        }
      ]
    },
    {
      "cell_type": "code",
      "source": [
        "import numpy as np\n",
        "range = np.arange(1.5,5.5,0.1)\n",
        "X_range=pd.DataFrame([range**1,range**2,range**3,range**4,range**5,range**6,range**7,range**8,range**9]).T\n",
        "y_pred = model.predict(X_range)\n",
        "data_mt.plot(kind='scatter',x='wt',y='mpg',figsize=(9,9),color='black',xlim=(0,7))\n",
        "plt.plot(range,y_pred,color='blue')"
      ],
      "metadata": {
        "colab": {
          "base_uri": "https://localhost:8080/",
          "height": 662
        },
        "id": "Q6RxJvYFTcTh",
        "outputId": "009ee028-4510-4a77-8c70-8112e33a91a3"
      },
      "execution_count": 65,
      "outputs": [
        {
          "output_type": "stream",
          "name": "stderr",
          "text": [
            "/usr/local/lib/python3.9/dist-packages/sklearn/base.py:439: UserWarning: X does not have valid feature names, but LinearRegression was fitted with feature names\n",
            "  warnings.warn(\n",
            "/usr/local/lib/python3.9/dist-packages/pandas/plotting/_matplotlib/core.py:1114: UserWarning: No data for colormapping provided via 'c'. Parameters 'cmap' will be ignored\n",
            "  scatter = ax.scatter(\n"
          ]
        },
        {
          "output_type": "execute_result",
          "data": {
            "text/plain": [
              "[<matplotlib.lines.Line2D at 0x7f7ec3d42df0>]"
            ]
          },
          "metadata": {},
          "execution_count": 65
        },
        {
          "output_type": "display_data",
          "data": {
            "text/plain": [
              "<Figure size 648x648 with 1 Axes>"
            ],
            "image/png": "[encoded data removed]"
          },
          "metadata": {
            "needs_background": "light"
          }
        }
      ]
    },
    {
      "cell_type": "markdown",
      "source": [
        "###Bậc 13 "
      ],
      "metadata": {
        "id": "K_eDkIq2VT7h"
      }
    },
    {
      "cell_type": "code",
      "source": [
        "model=linear_model.LinearRegression()\n",
        "X=pd.DataFrame([data_mt['wt'],data_mt['wt']**2,\n",
        "                data_mt['wt']**3,data_mt['wt']**4,\n",
        "                data_mt['wt']**5,data_mt['wt']**6,\n",
        "                data_mt['wt']**7,data_mt['wt']**8,\n",
        "                data_mt['wt']**9,data_mt['wt']**10,\n",
        "                data_mt['wt']**11,data_mt['wt']**12,\n",
        "                data_mt['wt']**13]).T \n",
        "y=data_mt['mpg']\n",
        "model.fit(X,y)\n",
        "print('Intercept cua mo hinh : ', model.intercept_)\n",
        "print('Coef cua mo hinh la : ',model.coef_)"
      ],
      "metadata": {
        "colab": {
          "base_uri": "https://localhost:8080/"
        },
        "id": "Sxvr3AARVUT5",
        "outputId": "649afd0f-8c3e-4b43-b55c-b8ac3ebad06c"
      },
      "execution_count": 75,
      "outputs": [
        {
          "output_type": "stream",
          "name": "stdout",
          "text": [
            "Intercept cua mo hinh :  -17924.755432355403\n",
            "Coef cua mo hinh la :  [ 3.71870708e+04 -1.11935404e+04 -2.73527312e+04  1.74923731e+04\n",
            "  1.94582373e+04 -3.37840508e+04  2.30525606e+04 -9.32336224e+03\n",
            "  2.44117997e+03 -4.19739539e+02  4.59106860e+01 -2.90313644e+00\n",
            "  8.08994091e-02]\n"
          ]
        }
      ]
    },
    {
      "cell_type": "code",
      "source": [
        "model.score(X,y)"
      ],
      "metadata": {
        "colab": {
          "base_uri": "https://localhost:8080/"
        },
        "id": "WWaBrh0dVUd1",
        "outputId": "78f11437-4d67-48ed-802c-d634c54fff1b"
      },
      "execution_count": 76,
      "outputs": [
        {
          "output_type": "execute_result",
          "data": {
            "text/plain": [
              "0.8784498973119335"
            ]
          },
          "metadata": {},
          "execution_count": 76
        }
      ]
    },
    {
      "cell_type": "code",
      "source": [],
      "metadata": {
        "id": "sWsEJYunVUzM"
      },
      "execution_count": null,
      "outputs": []
    },
    {
      "cell_type": "code",
      "source": [],
      "metadata": {
        "id": "ZXO0qG3QTcjs"
      },
      "execution_count": null,
      "outputs": []
    },
    {
      "cell_type": "markdown",
      "source": [
        "###Bậc 14 "
      ],
      "metadata": {
        "id": "S8TDrXKZVtA9"
      }
    },
    {
      "cell_type": "code",
      "source": [
        "model=linear_model.LinearRegression()\n",
        "X=pd.DataFrame([data_mt['wt'],data_mt['wt']**2,\n",
        "                data_mt['wt']**3,data_mt['wt']**4,\n",
        "                data_mt['wt']**5,data_mt['wt']**6,\n",
        "                data_mt['wt']**7,data_mt['wt']**8,\n",
        "                data_mt['wt']**9,data_mt['wt']**10,\n",
        "                data_mt['wt']**11,data_mt['wt']**12,\n",
        "                data_mt['wt']**13,data_mt['wt']**14]).T \n",
        "y=data_mt['mpg']\n",
        "model.fit(X,y)\n",
        "print('Intercept cua mo hinh : ', model.intercept_)\n",
        "print('Coef cua mo hinh la : ',model.coef_)"
      ],
      "metadata": {
        "colab": {
          "base_uri": "https://localhost:8080/"
        },
        "id": "BQSFWwStVtQ4",
        "outputId": "68da16d8-75f6-464f-eea3-24f0b0fa388e"
      },
      "execution_count": 77,
      "outputs": [
        {
          "output_type": "stream",
          "name": "stdout",
          "text": [
            "Intercept cua mo hinh :  -4739.037068068236\n",
            "Coef cua mo hinh la :  [ 6.82294357e+03  1.71186897e+03 -4.96439227e+03 -2.63872627e+03\n",
            "  4.80831363e+03  1.77759415e+03 -6.21675245e+03  4.96758258e+03\n",
            " -2.18465110e+03  6.04127905e+02 -1.08023874e+02  1.21722270e+01\n",
            " -7.88002041e-01  2.23827146e-02]\n"
          ]
        }
      ]
    },
    {
      "cell_type": "code",
      "source": [
        "model.score(X,y)"
      ],
      "metadata": {
        "colab": {
          "base_uri": "https://localhost:8080/"
        },
        "id": "ap0JYZ0EVtaO",
        "outputId": "b547b764-64cd-4569-9717-636a5806715a"
      },
      "execution_count": 78,
      "outputs": [
        {
          "output_type": "execute_result",
          "data": {
            "text/plain": [
              "0.8790911067088647"
            ]
          },
          "metadata": {},
          "execution_count": 78
        }
      ]
    },
    {
      "cell_type": "markdown",
      "source": [
        "###Bậc 15 (độ chính xác cao nhất)"
      ],
      "metadata": {
        "id": "JHSKz-PjVZ5w"
      }
    },
    {
      "cell_type": "code",
      "source": [
        "model=linear_model.LinearRegression()\n",
        "X=pd.DataFrame([data_mt['wt'],data_mt['wt']**2,\n",
        "                data_mt['wt']**3,data_mt['wt']**4,\n",
        "                data_mt['wt']**5,data_mt['wt']**6,\n",
        "                data_mt['wt']**7,data_mt['wt']**8,\n",
        "                data_mt['wt']**9,data_mt['wt']**10,\n",
        "                data_mt['wt']**11,data_mt['wt']**12,\n",
        "                data_mt['wt']**13,data_mt['wt']**14,\n",
        "                data_mt['wt']**15]).T \n",
        "y=data_mt['mpg']\n",
        "model.fit(X,y)\n",
        "print('Intercept cua mo hinh : ', model.intercept_)\n",
        "print('Coef cua mo hinh la : ',model.coef_)"
      ],
      "metadata": {
        "colab": {
          "base_uri": "https://localhost:8080/"
        },
        "id": "T-_xH_tJT-aM",
        "outputId": "5a741335-51e9-43c2-de8f-0680ad580b41"
      },
      "execution_count": 47,
      "outputs": [
        {
          "output_type": "stream",
          "name": "stdout",
          "text": [
            "Intercept cua mo hinh :  -1183.775900530815\n",
            "Coef cua mo hinh la :  [ 1.15482832e+03  8.26985531e+02 -3.77299068e+02 -9.90227356e+02\n",
            " -8.54738725e+01  1.01497570e+03  5.84542984e+01 -1.14654333e+03\n",
            "  1.05398762e+03 -4.97390219e+02  1.43996618e+02 -2.66141482e+01\n",
            "  3.07575388e+00 -2.03158530e-01  5.86600122e-03]\n"
          ]
        }
      ]
    },
    {
      "cell_type": "code",
      "source": [
        "model.score(X,y)"
      ],
      "metadata": {
        "colab": {
          "base_uri": "https://localhost:8080/"
        },
        "id": "0tGV8QsOUk3J",
        "outputId": "697ff600-ef4d-4fb3-e1ce-772903e2de11"
      },
      "execution_count": 48,
      "outputs": [
        {
          "output_type": "execute_result",
          "data": {
            "text/plain": [
              "0.8793156609915943"
            ]
          },
          "metadata": {},
          "execution_count": 48
        }
      ]
    },
    {
      "cell_type": "code",
      "source": [
        "import numpy as np\n",
        "range = np.arange(1.5,5.5,0.1)\n",
        "X_range=pd.DataFrame([range**1,range**2,range**3,range**4,range**5,range**6,range**7,range**8,range**9,range**10,range**11,range**12,range**13,range**14,range**15]).T\n",
        "y_pred = model.predict(X_range)\n",
        "data_mt.plot(kind='scatter',x='wt',y='mpg',figsize=(9,9),color='black',xlim=(0,7))\n",
        "plt.plot(range,y_pred,color='blue')"
      ],
      "metadata": {
        "colab": {
          "base_uri": "https://localhost:8080/",
          "height": 662
        },
        "id": "_6hzDvG_hIev",
        "outputId": "033ff23d-5a5d-426f-c308-517a9a9a923e"
      },
      "execution_count": 49,
      "outputs": [
        {
          "output_type": "stream",
          "name": "stderr",
          "text": [
            "/usr/local/lib/python3.9/dist-packages/sklearn/base.py:439: UserWarning: X does not have valid feature names, but LinearRegression was fitted with feature names\n",
            "  warnings.warn(\n",
            "/usr/local/lib/python3.9/dist-packages/pandas/plotting/_matplotlib/core.py:1114: UserWarning: No data for colormapping provided via 'c'. Parameters 'cmap' will be ignored\n",
            "  scatter = ax.scatter(\n"
          ]
        },
        {
          "output_type": "execute_result",
          "data": {
            "text/plain": [
              "[<matplotlib.lines.Line2D at 0x7f7ec6151ee0>]"
            ]
          },
          "metadata": {},
          "execution_count": 49
        },
        {
          "output_type": "display_data",
          "data": {
            "text/plain": [
              "<Figure size 648x648 with 1 Axes>"
            ],
            "image/png": "[encoded data removed]"
          },
          "metadata": {
            "needs_background": "light"
          }
        }
      ]
    },
    {
      "cell_type": "markdown",
      "source": [
        "###Bậc 16 "
      ],
      "metadata": {
        "id": "cgcrd8ozUgBt"
      }
    },
    {
      "cell_type": "code",
      "source": [
        "model=linear_model.LinearRegression()\n",
        "X=pd.DataFrame([data_mt['wt'],data_mt['wt']**2,\n",
        "                data_mt['wt']**3,data_mt['wt']**4,\n",
        "                data_mt['wt']**5,data_mt['wt']**6,\n",
        "                data_mt['wt']**7,data_mt['wt']**8,\n",
        "                data_mt['wt']**9,data_mt['wt']**10,\n",
        "                data_mt['wt']**11,data_mt['wt']**12,\n",
        "                data_mt['wt']**13,data_mt['wt']**14,\n",
        "                data_mt['wt']**15,data_mt['wt']**16]).T \n",
        "y=data_mt['mpg']\n",
        "model.fit(X,y)\n",
        "print('Intercept cua mo hinh : ', model.intercept_)\n",
        "print('Coef cua mo hinh la : ',model.coef_)"
      ],
      "metadata": {
        "colab": {
          "base_uri": "https://localhost:8080/"
        },
        "id": "EQGRKQUBUgVD",
        "outputId": "b5a47810-2331-4445-abb5-444732bcdb42"
      },
      "execution_count": 69,
      "outputs": [
        {
          "output_type": "stream",
          "name": "stdout",
          "text": [
            "Intercept cua mo hinh :  -244.76206092834474\n",
            "Coef cua mo hinh la :  [ 1.66697176e+02  1.84883359e+02  4.71881524e+01 -1.29217347e+02\n",
            " -1.50987656e+02  4.14330624e+01  1.81474022e+02 -3.02010903e+01\n",
            " -1.96632989e+02  2.06534321e+02 -1.04036722e+02  3.14494423e+01\n",
            " -6.00125063e+00  7.11063296e-01 -4.79218772e-02  1.40690300e-03]\n"
          ]
        }
      ]
    },
    {
      "cell_type": "code",
      "source": [
        "model.score(X,y)"
      ],
      "metadata": {
        "colab": {
          "base_uri": "https://localhost:8080/"
        },
        "id": "9QvSRy58Ugcc",
        "outputId": "34e99e1c-4e4f-45fc-fe2d-8b873d98c7b4"
      },
      "execution_count": 70,
      "outputs": [
        {
          "output_type": "execute_result",
          "data": {
            "text/plain": [
              "0.8792804976423304"
            ]
          },
          "metadata": {},
          "execution_count": 70
        }
      ]
    },
    {
      "cell_type": "code",
      "source": [
        "import numpy as np\n",
        "range = np.arange(1.5,5.5,0.1)\n",
        "X_range=pd.DataFrame([range**1,range**2,range**3,range**4,range**5,range**6,range**7,range**8,range**9,range**10,range**11,range**12,range**13,range**14,range**15,range**16]).T\n",
        "y_pred = model.predict(X_range)\n",
        "data_mt.plot(kind='scatter',x='wt',y='mpg',figsize=(9,9),color='black',xlim=(0,7))\n",
        "plt.plot(range,y_pred,color='blue')"
      ],
      "metadata": {
        "colab": {
          "base_uri": "https://localhost:8080/",
          "height": 662
        },
        "id": "w0NjROoHUgoB",
        "outputId": "0b739783-68fb-4bf4-a949-1be9796f8357"
      },
      "execution_count": 71,
      "outputs": [
        {
          "output_type": "stream",
          "name": "stderr",
          "text": [
            "/usr/local/lib/python3.9/dist-packages/sklearn/base.py:439: UserWarning: X does not have valid feature names, but LinearRegression was fitted with feature names\n",
            "  warnings.warn(\n",
            "/usr/local/lib/python3.9/dist-packages/pandas/plotting/_matplotlib/core.py:1114: UserWarning: No data for colormapping provided via 'c'. Parameters 'cmap' will be ignored\n",
            "  scatter = ax.scatter(\n"
          ]
        },
        {
          "output_type": "execute_result",
          "data": {
            "text/plain": [
              "[<matplotlib.lines.Line2D at 0x7f7ec3c4e280>]"
            ]
          },
          "metadata": {},
          "execution_count": 71
        },
        {
          "output_type": "display_data",
          "data": {
            "text/plain": [
              "<Figure size 648x648 with 1 Axes>"
            ],
            "image/png": "[encoded data removed]"
          },
          "metadata": {
            "needs_background": "light"
          }
        }
      ]
    },
    {
      "cell_type": "code",
      "source": [],
      "metadata": {
        "id": "T6EDujI7UhMP"
      },
      "execution_count": null,
      "outputs": []
    },
    {
      "cell_type": "markdown",
      "source": [
        "###Bậc 17 "
      ],
      "metadata": {
        "id": "G0BeZw5DU4Z4"
      }
    },
    {
      "cell_type": "code",
      "source": [
        "model=linear_model.LinearRegression()\n",
        "X=pd.DataFrame([data_mt['wt'],data_mt['wt']**2,\n",
        "                data_mt['wt']**3,data_mt['wt']**4,\n",
        "                data_mt['wt']**5,data_mt['wt']**6,\n",
        "                data_mt['wt']**7,data_mt['wt']**8,\n",
        "                data_mt['wt']**9,data_mt['wt']**10,\n",
        "                data_mt['wt']**11,data_mt['wt']**12,\n",
        "                data_mt['wt']**13,data_mt['wt']**14,\n",
        "                data_mt['wt']**15,data_mt['wt']**16,\n",
        "                data_mt['wt']**17]).T \n",
        "y=data_mt['mpg']\n",
        "model.fit(X,y)\n",
        "print('Intercept cua mo hinh : ', model.intercept_)\n",
        "print('Coef cua mo hinh la : ',model.coef_)"
      ],
      "metadata": {
        "colab": {
          "base_uri": "https://localhost:8080/"
        },
        "id": "izAU2wiVU4r6",
        "outputId": "a535e960-e573-4be9-bdc8-c587f74f7ac4"
      },
      "execution_count": 72,
      "outputs": [
        {
          "output_type": "stream",
          "name": "stdout",
          "text": [
            "Intercept cua mo hinh :  -11.611911009252069\n",
            "Coef cua mo hinh la :  [ 1.54381067e+01  2.20725925e+01  1.47153635e+01 -3.86140972e+00\n",
            " -1.93787134e+01 -1.37852299e+01  1.18174525e+01  2.21809235e+01\n",
            " -9.75635640e+00 -2.45552294e+01  3.08826949e+01 -1.69836656e+01\n",
            "  5.45244855e+00 -1.08915227e+00  1.33841079e-01 -9.29349401e-03\n",
            "  2.79714508e-04]\n"
          ]
        }
      ]
    },
    {
      "cell_type": "code",
      "source": [
        "model.score(X,y)"
      ],
      "metadata": {
        "colab": {
          "base_uri": "https://localhost:8080/"
        },
        "id": "6FWBXFaUU4xp",
        "outputId": "06b2f431-784c-496b-c421-a370f64e8589"
      },
      "execution_count": 73,
      "outputs": [
        {
          "output_type": "execute_result",
          "data": {
            "text/plain": [
              "0.8791597510790989"
            ]
          },
          "metadata": {},
          "execution_count": 73
        }
      ]
    },
    {
      "cell_type": "code",
      "source": [
        "import numpy as np\n",
        "range = np.arange(1.5,5.5,0.1)\n",
        "X_range=pd.DataFrame([range**1,range**2,range**3,range**4,range**5,range**6,range**7,range**8,range**9,range**10,range**11,range**12,range**13,range**14,range**15,range**16,range**17]).T\n",
        "y_pred = model.predict(X_range)\n",
        "data_mt.plot(kind='scatter',x='wt',y='mpg',figsize=(9,9),color='black',xlim=(0,7))\n",
        "plt.plot(range,y_pred,color='blue')"
      ],
      "metadata": {
        "colab": {
          "base_uri": "https://localhost:8080/",
          "height": 662
        },
        "id": "u9slP2GHU42g",
        "outputId": "e0d871ac-7984-4a4c-8f78-c4954789c6f0"
      },
      "execution_count": 74,
      "outputs": [
        {
          "output_type": "stream",
          "name": "stderr",
          "text": [
            "/usr/local/lib/python3.9/dist-packages/sklearn/base.py:439: UserWarning: X does not have valid feature names, but LinearRegression was fitted with feature names\n",
            "  warnings.warn(\n",
            "/usr/local/lib/python3.9/dist-packages/pandas/plotting/_matplotlib/core.py:1114: UserWarning: No data for colormapping provided via 'c'. Parameters 'cmap' will be ignored\n",
            "  scatter = ax.scatter(\n"
          ]
        },
        {
          "output_type": "execute_result",
          "data": {
            "text/plain": [
              "[<matplotlib.lines.Line2D at 0x7f7ec3add4f0>]"
            ]
          },
          "metadata": {},
          "execution_count": 74
        },
        {
          "output_type": "display_data",
          "data": {
            "text/plain": [
              "<Figure size 648x648 with 1 Axes>"
            ],
            "image/png": "[encoded data removed]"
          },
          "metadata": {
            "needs_background": "light"
          }
        }
      ]
    },
    {
      "cell_type": "code",
      "source": [],
      "metadata": {
        "id": "P42gMO4mU5P6"
      },
      "execution_count": null,
      "outputs": []
    },
    {
      "cell_type": "markdown",
      "source": [
        "###Bậc 18 "
      ],
      "metadata": {
        "id": "0rRsKy5HT-YP"
      }
    },
    {
      "cell_type": "code",
      "source": [
        "model=linear_model.LinearRegression()\n",
        "X=pd.DataFrame([data_mt['wt'],data_mt['wt']**2,\n",
        "                data_mt['wt']**3,data_mt['wt']**4,\n",
        "                data_mt['wt']**5,data_mt['wt']**6,\n",
        "                data_mt['wt']**7,data_mt['wt']**8,\n",
        "                data_mt['wt']**9,data_mt['wt']**10,\n",
        "                data_mt['wt']**11,data_mt['wt']**12,\n",
        "                data_mt['wt']**13,data_mt['wt']**14,\n",
        "                data_mt['wt']**15,data_mt['wt']**16,\n",
        "                data_mt['wt']**17,data_mt['wt']**18]).T \n",
        "y=data_mt['mpg']\n",
        "model.fit(X,y)\n",
        "print('Intercept cua mo hinh : ', model.intercept_)\n",
        "print('Coef cua mo hinh la : ',model.coef_)"
      ],
      "metadata": {
        "colab": {
          "base_uri": "https://localhost:8080/"
        },
        "id": "Y9jut9ymT-2m",
        "outputId": "3eb1cd96-1d09-4007-c946-de76debe18a7"
      },
      "execution_count": 66,
      "outputs": [
        {
          "output_type": "stream",
          "name": "stdout",
          "text": [
            "Intercept cua mo hinh :  34.726606567204\n",
            "Coef cua mo hinh la :  [-1.03103438e+00 -1.94821472e+00 -2.29932638e+00 -1.67153927e+00\n",
            " -8.82124409e-02  1.61855008e+00  2.01024013e+00  3.66820514e-01\n",
            " -1.63735045e+00 -9.94707976e-01  1.31124220e+00  1.08562195e-01\n",
            " -5.76894885e-01  3.07182871e-01 -8.07199462e-02  1.18705449e-02\n",
            " -9.37328843e-04  3.10852301e-05]\n"
          ]
        }
      ]
    },
    {
      "cell_type": "code",
      "source": [
        "model.score(X,y)"
      ],
      "metadata": {
        "colab": {
          "base_uri": "https://localhost:8080/"
        },
        "id": "DaE7kMxUT_Gq",
        "outputId": "7a0af1b3-4ba9-48eb-b87a-9d928cdcdb2b"
      },
      "execution_count": 67,
      "outputs": [
        {
          "output_type": "execute_result",
          "data": {
            "text/plain": [
              "0.8790910914795742"
            ]
          },
          "metadata": {},
          "execution_count": 67
        }
      ]
    },
    {
      "cell_type": "code",
      "source": [
        "import numpy as np\n",
        "range = np.arange(1.5,5.5,0.1)\n",
        "X_range=pd.DataFrame([range**1,range**2,range**3,range**4,range**5,range**6,range**7,range**8,range**9,range**10,range**11,range**12,range**13,range**14,range**15,range**16,range**17,range**18]).T\n",
        "y_pred = model.predict(X_range)\n",
        "data_mt.plot(kind='scatter',x='wt',y='mpg',figsize=(9,9),color='black',xlim=(0,7))\n",
        "plt.plot(range,y_pred,color='blue')"
      ],
      "metadata": {
        "colab": {
          "base_uri": "https://localhost:8080/",
          "height": 662
        },
        "id": "_FOKrAWkT_SG",
        "outputId": "b51c11d2-1f89-412a-93a2-33633a791547"
      },
      "execution_count": 68,
      "outputs": [
        {
          "output_type": "stream",
          "name": "stderr",
          "text": [
            "/usr/local/lib/python3.9/dist-packages/sklearn/base.py:439: UserWarning: X does not have valid feature names, but LinearRegression was fitted with feature names\n",
            "  warnings.warn(\n",
            "/usr/local/lib/python3.9/dist-packages/pandas/plotting/_matplotlib/core.py:1114: UserWarning: No data for colormapping provided via 'c'. Parameters 'cmap' will be ignored\n",
            "  scatter = ax.scatter(\n"
          ]
        },
        {
          "output_type": "execute_result",
          "data": {
            "text/plain": [
              "[<matplotlib.lines.Line2D at 0x7f7ec3c88940>]"
            ]
          },
          "metadata": {},
          "execution_count": 68
        },
        {
          "output_type": "display_data",
          "data": {
            "text/plain": [
              "<Figure size 648x648 with 1 Axes>"
            ],
            "image/png": "[encoded data removed]"
          },
          "metadata": {
            "needs_background": "light"
          }
        }
      ]
    },
    {
      "cell_type": "code",
      "source": [],
      "metadata": {
        "id": "1KbCdDQmT_d1"
      },
      "execution_count": null,
      "outputs": []
    },
    {
      "cell_type": "markdown",
      "source": [
        "# 2 biến "
      ],
      "metadata": {
        "id": "W9fs-RVpWRyp"
      }
    },
    {
      "cell_type": "code",
      "source": [
        "model = linear_model.LinearRegression()\n",
        "model.fit(X=data_mt.loc[:,['wt','hp']],y=data_mt['mpg'])\n",
        "print('intercept la : ',model.intercept_)\n",
        "print('coef la : ',model.coef_)\n",
        "print('do chinh xac la : ',model.score(X=data_mt.loc[:,['wt','hp']],y=data_mt['mpg']))"
      ],
      "metadata": {
        "colab": {
          "base_uri": "https://localhost:8080/"
        },
        "id": "jjE3S_-jWWgT",
        "outputId": "abd4741e-ecb9-4733-9407-95c0269ab1e5"
      },
      "execution_count": 80,
      "outputs": [
        {
          "output_type": "stream",
          "name": "stdout",
          "text": [
            "intercept la :  37.227270116447215\n",
            "coef la :  [-3.87783074 -0.03177295]\n",
            "do chinh xac la :  0.8267854518827914\n"
          ]
        }
      ]
    },
    {
      "cell_type": "markdown",
      "source": [
        "## 3 biến "
      ],
      "metadata": {
        "id": "Zz5p01QMW2DF"
      }
    },
    {
      "cell_type": "markdown",
      "source": [
        "mpg = -3.87wt - 0.03hp + 37.22"
      ],
      "metadata": {
        "id": "B1POfwzKXQKt"
      }
    },
    {
      "cell_type": "code",
      "source": [
        "model = linear_model.LinearRegression()\n",
        "model.fit(X=data_mt.loc[:,['wt','hp','disp']],y=data_mt['mpg'])\n",
        "print('intercept la : ',model.intercept_)\n",
        "print('coef la : ',model.coef_)\n",
        "print('do chinh xac la : ',model.score(X=data_mt.loc[:,['wt','hp','disp']],y=data_mt['mpg']))"
      ],
      "metadata": {
        "colab": {
          "base_uri": "https://localhost:8080/"
        },
        "id": "zLQ3v3CMXEXk",
        "outputId": "a5ab3210-98a0-4863-cf8b-6aa37d090ca8"
      },
      "execution_count": 81,
      "outputs": [
        {
          "output_type": "stream",
          "name": "stdout",
          "text": [
            "intercept la :  37.10550526903184\n",
            "coef la :  [-3.80089058e+00 -3.11565508e-02 -9.37009081e-04]\n",
            "do chinh xac la :  0.8268361424946447\n"
          ]
        }
      ]
    },
    {
      "cell_type": "code",
      "source": [
        "# model = linear_model.LinearRegression()\n",
        "# model.fit(X=data.loc[:,['wt','hp','disp','mpg']],y=data['mpg'])\n",
        "# print('intercept la : ',model.intercept_)\n",
        "# print('coef la : ',model.coef_)\n",
        "# print('do chinh xac la : ',model.score(X=data.loc[:,['wt','hp','disp','mpg']],y=data['mpg']))"
      ],
      "metadata": {
        "colab": {
          "base_uri": "https://localhost:8080/"
        },
        "id": "k-WfD3CLYDCG",
        "outputId": "bd8514d3-c68d-4768-a3f1-58b272249b88"
      },
      "execution_count": null,
      "outputs": [
        {
          "output_type": "stream",
          "name": "stdout",
          "text": [
            "intercept la :  2.1316282072803006e-14\n",
            "coef la :  [-8.34633719e-16 -4.85722573e-17 -6.93889390e-18  1.00000000e+00]\n",
            "do chinh xac la :  1.0\n"
          ]
        }
      ]
    },
    {
      "cell_type": "code",
      "source": [],
      "metadata": {
        "id": "q2GXH-B4YVAE"
      },
      "execution_count": null,
      "outputs": []
    }
  ]
}